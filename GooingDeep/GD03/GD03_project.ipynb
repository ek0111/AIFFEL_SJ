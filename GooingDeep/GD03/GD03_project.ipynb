{
 "cells": [
  {
   "cell_type": "code",
   "execution_count": 1,
   "id": "ce4c877e",
   "metadata": {},
   "outputs": [
    {
     "name": "stdout",
     "output_type": "stream",
     "text": [
      "0.5.2\n",
      "4.1.2\n",
      "1.0\n",
      "0.11.2\n"
     ]
    }
   ],
   "source": [
    "import konlpy\n",
    "import gensim\n",
    "import sklearn\n",
    "import seaborn\n",
    "\n",
    "print(konlpy.__version__)\n",
    "print(gensim.__version__)\n",
    "print(sklearn.__version__)\n",
    "print(seaborn.__version__)"
   ]
  },
  {
   "cell_type": "markdown",
   "id": "ed22b27a",
   "metadata": {},
   "source": [
    "#### 1. 형태소 분석기를 이용하여 품사가 명사인 경우 해당 단어를 추출하기"
   ]
  },
  {
   "cell_type": "code",
   "execution_count": 2,
   "id": "01472df1",
   "metadata": {},
   "outputs": [
    {
     "name": "stdout",
     "output_type": "stream",
     "text": [
      "사운드 엔지니어 상우(유지태 분)는 치매에 걸린 할머니(백성희 분)와\n",
      " 젊은 시절 상처한 한 아버지(박인환 분), 고모(신신애 분)와 함께 살고 있다.\n",
      " 어느 겨울 그는 지방 방송국 라디오 PD 은수(이영애 분)를 만난다.\n",
      " 자연의 소리를 채집해 틀어주는 라디오 프로그램을 준비하는 은수는 상우와 녹음 여행을 떠난다.\n",
      " 자연스레 가까워지는 두 사람은 어느 날, 은수의 아파트에서 밤을 보낸다.\n"
     ]
    }
   ],
   "source": [
    "import os\n",
    "\n",
    "with open(os.getenv('HOME')+'/aiffel/weat/synopsis.txt', 'r') as file:\n",
    "    for i in range(5):\n",
    "        print(file.readline(), end='')"
   ]
  },
  {
   "cell_type": "code",
   "execution_count": 3,
   "id": "3dd2b8c8",
   "metadata": {},
   "outputs": [],
   "source": [
    "from konlpy.tag import Okt\n",
    "okt = Okt()\n",
    "tokenized = []\n",
    "with open(os.getenv('HOME')+'/aiffel/weat/synopsis.txt', 'r') as file:\n",
    "    while True:\n",
    "        line = file.readline()\n",
    "        if not line: break\n",
    "        words = okt.pos(line, stem=True, norm=True)\n",
    "        res = []\n",
    "        for w in words:\n",
    "            if w[1] in [\"Noun\"]:   #명사일 때만 tokenized에 저장\n",
    "                res.append(w[0])    \n",
    "        tokenized.append(res)"
   ]
  },
  {
   "cell_type": "code",
   "execution_count": 4,
   "id": "c5e52c70",
   "metadata": {},
   "outputs": [
    {
     "name": "stdout",
     "output_type": "stream",
     "text": [
      "71156\n"
     ]
    }
   ],
   "source": [
    "print(len(tokenized)) #명사 개수"
   ]
  },
  {
   "cell_type": "code",
   "execution_count": 5,
   "id": "f943d435",
   "metadata": {},
   "outputs": [
    {
     "data": {
      "text/plain": [
       "[['사운드', '엔지니어', '상우', '유지태', '분', '치매', '할머니', '백성희', '분'],\n",
       " ['시절', '상처', '아버지', '박인환', '분', '고모', '신신애', '분', '살'],\n",
       " ['겨울', '그', '지방', '방송국', '라디오', '은수', '이영애', '분', '를'],\n",
       " ['자연', '소리', '채집', '라디오', '프로그램', '준비', '은수', '상우', '녹음', '여행'],\n",
       " ['두', '사람', '날', '은수', '아파트', '밤'],\n",
       " ['사랑', '두', '사람', '상우', '주체', '수', '정도', '그녀'],\n",
       " ['겨울', '만난', '두', '사람', '관계', '봄', '지나', '여름', '맞이', '삐걱', '거', '린다'],\n",
       " ['이혼', '경험', '은수', '상우', '결혼', '생각', '표정', '내비'],\n",
       " ['사랑', '상우', '은수', '단호', '말'],\n",
       " ['것', '사랑', '그', '사실', '상우', '어찌']]"
      ]
     },
     "execution_count": 5,
     "metadata": {},
     "output_type": "execute_result"
    }
   ],
   "source": [
    "tokenized[:10]"
   ]
  },
  {
   "cell_type": "markdown",
   "id": "a2cdbf17",
   "metadata": {},
   "source": [
    "#### 2. 추출된 결과로 embedding model 만들기"
   ]
  },
  {
   "cell_type": "code",
   "execution_count": 6,
   "id": "5882b652",
   "metadata": {},
   "outputs": [],
   "source": [
    "#word2vec 임베딩모델\n",
    "from gensim.models import Word2Vec\n",
    "\n",
    "model = Word2Vec(tokenized, vector_size=100, window=5, min_count=3, sg=0)  \n",
    "#임베딩차원 100차원, 윈도우크기 5, 단어 최소 빈도수 3으로 제한, sog=0 : CBow방식"
   ]
  },
  {
   "cell_type": "code",
   "execution_count": 7,
   "id": "2eb0031f",
   "metadata": {},
   "outputs": [
    {
     "data": {
      "text/plain": [
       "[('극적', 0.8769263029098511),\n",
       " ('침묵', 0.8714460730552673),\n",
       " ('결말', 0.8596013784408569),\n",
       " ('광기', 0.8434047698974609),\n",
       " ('교차', 0.8244319558143616),\n",
       " ('고독', 0.8236770033836365),\n",
       " ('반전', 0.8222940564155579),\n",
       " ('동시', 0.8109775185585022),\n",
       " ('경계', 0.8065205216407776),\n",
       " ('고통', 0.8049156069755554)]"
      ]
     },
     "execution_count": 7,
     "metadata": {},
     "output_type": "execute_result"
    }
   ],
   "source": [
    "model.wv.most_similar(positive=['비극'])"
   ]
  },
  {
   "cell_type": "code",
   "execution_count": 8,
   "id": "026cb84d",
   "metadata": {},
   "outputs": [
    {
     "data": {
      "text/plain": [
       "[('기쁨', 0.9276110529899597),\n",
       " ('슬픔', 0.8948304653167725),\n",
       " ('좌절', 0.8777521848678589),\n",
       " ('아픔', 0.8760821223258972),\n",
       " ('위안', 0.8736228346824646),\n",
       " ('용기', 0.8721231818199158),\n",
       " ('용서', 0.8550378084182739),\n",
       " ('가슴', 0.8542366623878479),\n",
       " ('진정', 0.8532623052597046),\n",
       " ('눈물', 0.8529021143913269)]"
      ]
     },
     "execution_count": 8,
     "metadata": {},
     "output_type": "execute_result"
    }
   ],
   "source": [
    "model.wv.most_similar(positive=['행복'])"
   ]
  },
  {
   "cell_type": "markdown",
   "id": "7f5fa49d",
   "metadata": {},
   "source": [
    "#### 3. target, attribute 단어 셋 만들기\n",
    "- 영화 구분(target) : 예술영화, 일반영화\n",
    "- 장르 구분(attribute) : 모든 장르"
   ]
  },
  {
   "cell_type": "code",
   "execution_count": 9,
   "id": "5002bbd5",
   "metadata": {},
   "outputs": [],
   "source": [
    "from sklearn.feature_extraction.text import TfidfVectorizer\n",
    "import numpy as np\n",
    "from konlpy.tag import Okt\n",
    "\n",
    "art_txt = 'synopsis_art.txt'\n",
    "gen_txt = 'synopsis_gen.txt'\n",
    "\n",
    "#단어토큰만 뽑아내기\n",
    "def read_token(file_name):\n",
    "    okt = Okt()\n",
    "    result = []\n",
    "    with open(os.getenv('HOME')+'/aiffel/weat/'+file_name, 'r') as fread: \n",
    "        print(file_name, '파일을 읽고 있습니다.')\n",
    "        while True:\n",
    "            line = fread.readline() \n",
    "            if not line: break \n",
    "            tokenlist = okt.pos(line, stem=True, norm=True) \n",
    "            for word in tokenlist:\n",
    "                if word[1] in [\"Noun\"]:\n",
    "                    result.append((word[0])) \n",
    "    return ' '.join(result)"
   ]
  },
  {
   "cell_type": "code",
   "execution_count": 10,
   "id": "01e7d0f4",
   "metadata": {},
   "outputs": [
    {
     "name": "stdout",
     "output_type": "stream",
     "text": [
      "synopsis_art.txt 파일을 읽고 있습니다.\n",
      "synopsis_gen.txt 파일을 읽고 있습니다.\n"
     ]
    }
   ],
   "source": [
    "art = read_token(art_txt)\n",
    "gen = read_token(gen_txt)"
   ]
  },
  {
   "cell_type": "code",
   "execution_count": 11,
   "id": "a93ca11e",
   "metadata": {},
   "outputs": [
    {
     "name": "stdout",
     "output_type": "stream",
     "text": [
      "예술영화를 대표하는 단어들:\n",
      "그녀, 자신, 시작, 위해, 사랑, 사람, 영화, 친구, 남자, 가족, 이야기, 마을, 사건, 마음, 세상, 아버지, 아이, 엄마, 모든, 여자, 대한, 서로, 과연, 다시, 시간, 아들, 소녀, 아내, 다른, 사이, 영화제, 세계, 사실, 하나, 점점, 남편, 감독, 여행, 인생, 발견, 모두, 순간, 우리, 가장, 마지막, 생활, 아빠, 모습, 통해, 죽음, 기억, 비밀, 학교, 음악, 한편, 소년, 생각, 도시, 명의, 사고, 결혼, 전쟁, 때문, 위기, 이제, 최고, 이자, 과거, 일상, 경찰, 상황, 간다, 미국, 결심, 운명, 현실, 관계, 지금, 단편, 여인, 하루, 이름, 이후, 준비, 인간, 감정, 만난, 국제, 처음, 충격, 살인, 누구, 동안, 존재, 그린, 어머니, 연인, 계속, 동생, 작품, 청년, 한국, 가지, 상처, 할머니, 목숨, 이상, 희망, 계획, 매력, 프랑스, 사회, 제안, 만남, 무엇, 거리, 이유, 파리, 여성, 정체, 매일, 바로, 시절, 보고, 진실, 홀로, 혼란, 배우, 선택, 다큐멘터리, 혼자, 작가, 갑자기, 일본, 고향, 마주, 도착, 병원, 문제, 로부터, 노래, 주인공, 자리, 대해, 미래, 갈등, 소식, 공연, 서울, 할아버지, 부부, 도움, 연애, 회사, 여자친구, 조직, 소개, 낯선, 찾기, 애인, 잠시, 당신, 고백, 역시, 아무, 시골, 동료, 편지, 촬영, 과정, 영국, 오늘, 마침내, 지구, 마치, 자살, 뉴욕, 탈출, 무대, 주변, 학생, 열정, 발생, 고양이, 고민, 천재, 첫사랑, 더욱, 납치, 약속, 복수, 역사, 의문, 동네, 행복, 파티, 현재, 달리, 여정, 전설, 가슴, 다음, 사진, 행동, 스스로, 점차, 성공, 몰래, 등장, 살해, 부모, 누군가, 변화, 얼굴, 맞이, 작전, 전화, 목격, 나이, 남자친구, 인물, 스타, 대학, 중국, 북한, 위협, 진짜, 우정, 현장, 소설, 가정, 부모님, 주인, 의심, 시대, 카메라, 이별, 바다, 기회, 가게, 레이, 욕망, 추억, 어디, 정신, 상태, 밴드, 폭력, 대신, 달라, 생일, 기록, 관심, 그날, 부산, 출신, 공포, 범인, 자기, 로서, 지역, 노력, 아침, 프로젝트, 한번, 부탁, 얼마, 정부, 마리, 그림, 경험, 예술, 안나, 형제, 아파트, 상상, 게임, 형사, 신부, 싸움, 실종, 선생님, 직원, 범죄, 기적, 연주, 소리, 상치, 능력, 포기, 방법, 절대, 하루하루, 위험, 또한, 모험, 내용, 마약, 감옥, 시선, \n",
      "\n",
      "일반영화를 대표하는 단어들:\n",
      "자신, 그녀, 영화제, 위해, 사람, 시작, 국제, 영화, 친구, 사랑, 남자, 이야기, 대한, 서울, 여자, 사건, 남편, 아이, 가족, 아버지, 다른, 마을, 시간, 엄마, 아들, 모든, 단편, 마음, 사실, 다시, 세계, 모습, 작품, 통해, 생각, 서로, 세상, 발견, 감독, 아내, 관계, 소녀, 사이, 하나, 우리, 애니메이션, 때문, 여성, 죽음, 과연, 점점, 인간, 생활, 한편, 결혼, 상황, 모두, 기억, 명의, 소년, 여행, 가장, 간다, 순간, 이제, 도시, 비밀, 학교, 과거, 가지, 이자, 경찰, 마지막, 미국, 동안, 전쟁, 주인공, 대해, 존재, 현실, 연출, 사고, 살인, 일상, 어머니, 계속, 사회, 인생, 다큐멘터리, 부문, 섹스, 최고, 바로, 동생, 의도, 하루, 위기, 계획, 정체, 한국, 이후, 조직, 회사, 보고, 부산, 아빠, 부부, 일본, 문제, 처음, 그것, 로부터, 독립, 운명, 감정, 음악, 경쟁, 무엇, 할머니, 결심, 거리, 누구, 혼자, 시절, 준비, 이상, 동료, 만난, 갑자기, 목숨, 과정, 소리, 부천, 이름, 제안, 여인, 지금, 도움, 살해, 역시, 현장, 지구, 촬영, 자기, 페스티벌, 발생, 그린, 이유, 사진, 도착, 자리, 미래, 복수, 학생, 환경, 매일, 경험, 지역, 다큐, 충격, 카메라, 공간, 행동, 중국, 또한, 선택, 방법, 공포, 영상, 대학, 납치, 상처, 배우, 판타스틱, 유혹, 병원, 인물, 상상, 애인, 노인, 할아버지, 공격, 가게, 대신, 게임, 위협, 연인, 매력, 변화, 형사, 고민, 고향, 진실, 노력, 전화, 잠시, 희망, 아무, 홀로, 현재, 탈출, 몰래, 누군가, 정신, 역사, 표현, 주인, 목격, 여자친구, 소개, 혼란, 남자친구, 마약, 마침내, 시도, 마리, 찾기, 주변, 의문, 청년, 요구, 다음, 자살, 더욱, 작가, 청소년, 시선, 상태, 임무, 파티, 만남, 관객, 이미지, 범인, 뉴욕, 기록, 작업, 장면, 전설, 스스로, 시골, 운영, 정부, 형제, 소식, 부탁, 제작, 프랑스, 마치, 바람, 이용, 위험, 동시, 얼마, 얼굴, 해결, 낯선, 범죄, 어디, 동물, 갈등, 달라, 욕망, 관심, 의미, 바다, 손님, 오늘, 나이, 폭력, 한번, 기회, 작전, 요원, 레이, 타고, 출신, 등장, 시대, 아침, 동네, 각자, 방문, 직원, 진행, 싸움, 가정, 음모, 부모, 언니, 부모님, 대상, 직접, 성적, 로서, 이혼, 가슴, 그림, 능력, 노래, "
     ]
    }
   ],
   "source": [
    "#TF-IDF : 코퍼스에서 자주 나타나는 단어이지만, 다른 코퍼스에서는 거의 나오지않는 단어 선정\n",
    "\n",
    "vectorizer = TfidfVectorizer()\n",
    "X = vectorizer.fit_transform([art, gen])\n",
    "\n",
    "\n",
    "m1 = X[0].tocoo()   # art를 TF-IDF로 표현한 sparse matrix를 가져옵니다. \n",
    "m2 = X[1].tocoo()   # gen을 TF-IDF로 표현한 sparse matrix를 가져옵니다. \n",
    "\n",
    "w1 = [[i, j] for i, j in zip(m1.col, m1.data)]\n",
    "w2 = [[i, j] for i, j in zip(m2.col, m2.data)]\n",
    "\n",
    "w1.sort(key=lambda x: x[1], reverse=True)   #art를 구성하는 단어들을 TF-IDF가 높은 순으로 정렬합니다. \n",
    "w2.sort(key=lambda x: x[1], reverse=True)   #gen을 구성하는 단어들을 TF-IDF가 높은 순으로 정렬합니다. \n",
    "\n",
    "print('예술영화를 대표하는 단어들:')\n",
    "for i in range(300):\n",
    "    print(vectorizer.get_feature_names_out()[w1[i][0]], end=', ')\n",
    "\n",
    "print('\\n')\n",
    "    \n",
    "print('일반영화를 대표하는 단어들:')\n",
    "for i in range(300):\n",
    "    print(vectorizer.get_feature_names_out()[w2[i][0]], end=', ')"
   ]
  },
  {
   "cell_type": "markdown",
   "id": "fa3d04e3",
   "metadata": {},
   "source": [
    "예술영화 일반영화를 동시에 대표하는 중복된 단어들이 많은 것을 확인할 수 있다.\n",
    "\n",
    "=> 두 개념축이 대조되도록 대표하는 단어 셋을 만들기 위해 중복을 제거하기"
   ]
  },
  {
   "cell_type": "code",
   "execution_count": 12,
   "id": "3dbe64d0",
   "metadata": {},
   "outputs": [],
   "source": [
    "n = 15 #중복제거하고 15개의 대표 단어 추출\n",
    "w1_, w2_ = [], []\n",
    "for i in range(300):\n",
    "    w1_.append(vectorizer.get_feature_names_out()[w1[i][0]])\n",
    "    w2_.append(vectorizer.get_feature_names_out()[w2[i][0]])\n",
    "\n",
    "target_art, target_gen = [], []\n",
    "\n",
    "# w1에만 있고 w2에는 없는, 예술영화를 잘 대표하는 단어를 15개 추출한다.\n",
    "for i in range(300):\n",
    "    if (w1_[i] not in w2_) and (w1_[i] in model.wv):\n",
    "        target_art.append(w1_[i])\n",
    "    if len(target_art) == n: break \n",
    "\n",
    "# w2에만 있고 w1에는 없는, 일반영화를 잘 대표하는 단어를 15개 추출한다.\n",
    "for i in range(300):\n",
    "    if (w2_[i] not in w1_) and (w2_[i] in model.wv):\n",
    "        target_gen.append(w2_[i])\n",
    "    if len(target_gen) == n: break"
   ]
  },
  {
   "cell_type": "code",
   "execution_count": 13,
   "id": "468f0bf1",
   "metadata": {},
   "outputs": [
    {
     "name": "stdout",
     "output_type": "stream",
     "text": [
      "예술영화를 대표하는 단어들:  ['파리', '마주', '공연', '연애', '당신', '고백', '편지', '영국', '무대', '열정', '고양이', '천재', '첫사랑', '약속', '행복']\n",
      "일반영화를 대표하는 단어들:  ['애니메이션', '연출', '부문', '섹스', '의도', '그것', '독립', '경쟁', '부천', '페스티벌', '환경', '다큐', '공간', '영상', '판타스틱']\n"
     ]
    }
   ],
   "source": [
    "print('예술영화를 대표하는 단어들: ', target_art)\n",
    "print('일반영화를 대표하는 단어들: ', target_gen)"
   ]
  },
  {
   "cell_type": "code",
   "execution_count": 14,
   "id": "bdd1e8c9",
   "metadata": {},
   "outputs": [],
   "source": [
    "#모든 장르의 파일\n",
    "genre_txt = ['synopsis_SF.txt', 'synopsis_family.txt', 'synopsis_show.txt', 'synopsis_horror.txt', 'synopsis_etc.txt', \n",
    "             'synopsis_documentary.txt', 'synopsis_drama.txt', 'synopsis_romance.txt', 'synopsis_musical.txt', \n",
    "             'synopsis_mystery.txt', 'synopsis_crime.txt', 'synopsis_historical.txt', 'synopsis_western.txt', \n",
    "             'synopsis_adult.txt', 'synopsis_thriller.txt', 'synopsis_animation.txt', 'synopsis_action.txt', \n",
    "             'synopsis_adventure.txt', 'synopsis_war.txt', 'synopsis_comedy.txt', 'synopsis_fantasy.txt']\n",
    "genre_name = ['SF', '가족', '공연', '공포(호러)', '기타', '다큐멘터리', '드라마', '멜로로맨스', '뮤지컬', '미스터리', '범죄', '사극', '서부극(웨스턴)',\n",
    "         '성인물(에로)', '스릴러', '애니메이션', '액션', '어드벤처', '전쟁', '코미디', '판타지']"
   ]
  },
  {
   "cell_type": "code",
   "execution_count": 15,
   "id": "5b626914",
   "metadata": {},
   "outputs": [
    {
     "name": "stdout",
     "output_type": "stream",
     "text": [
      "synopsis_SF.txt 파일을 읽고 있습니다.\n",
      "synopsis_family.txt 파일을 읽고 있습니다.\n",
      "synopsis_show.txt 파일을 읽고 있습니다.\n",
      "synopsis_horror.txt 파일을 읽고 있습니다.\n",
      "synopsis_etc.txt 파일을 읽고 있습니다.\n",
      "synopsis_documentary.txt 파일을 읽고 있습니다.\n",
      "synopsis_drama.txt 파일을 읽고 있습니다.\n",
      "synopsis_romance.txt 파일을 읽고 있습니다.\n",
      "synopsis_musical.txt 파일을 읽고 있습니다.\n",
      "synopsis_mystery.txt 파일을 읽고 있습니다.\n",
      "synopsis_crime.txt 파일을 읽고 있습니다.\n",
      "synopsis_historical.txt 파일을 읽고 있습니다.\n",
      "synopsis_western.txt 파일을 읽고 있습니다.\n",
      "synopsis_adult.txt 파일을 읽고 있습니다.\n",
      "synopsis_thriller.txt 파일을 읽고 있습니다.\n",
      "synopsis_animation.txt 파일을 읽고 있습니다.\n",
      "synopsis_action.txt 파일을 읽고 있습니다.\n",
      "synopsis_adventure.txt 파일을 읽고 있습니다.\n",
      "synopsis_war.txt 파일을 읽고 있습니다.\n",
      "synopsis_comedy.txt 파일을 읽고 있습니다.\n",
      "synopsis_fantasy.txt 파일을 읽고 있습니다.\n"
     ]
    }
   ],
   "source": [
    "genre = []\n",
    "for file_name in genre_txt:\n",
    "    genre.append(read_token(file_name))"
   ]
  },
  {
   "cell_type": "code",
   "execution_count": 16,
   "id": "62835149",
   "metadata": {},
   "outputs": [
    {
     "name": "stdout",
     "output_type": "stream",
     "text": [
      "(21, 42191)\n"
     ]
    }
   ],
   "source": [
    "vectorizer = TfidfVectorizer()\n",
    "X = vectorizer.fit_transform(genre)\n",
    "\n",
    "print(X.shape) #21개의 장르, 42191단어"
   ]
  },
  {
   "cell_type": "code",
   "execution_count": 17,
   "id": "b2444eba",
   "metadata": {},
   "outputs": [
    {
     "name": "stdout",
     "output_type": "stream",
     "text": [
      "SF: "
     ]
    },
    {
     "name": "stderr",
     "output_type": "stream",
     "text": [
      "/opt/conda/lib/python3.9/site-packages/sklearn/utils/deprecation.py:87: FutureWarning: Function get_feature_names is deprecated; get_feature_names is deprecated in 1.0 and will be removed in 1.2. Please use get_feature_names_out instead.\n",
      "  warnings.warn(msg, category=FutureWarning)\n"
     ]
    },
    {
     "name": "stdout",
     "output_type": "stream",
     "text": [
      "위해, 자신, 지구, 시작, 사람, 인류, 인간, 미래, 우주, 그녀, 로봇, 세계, 모든, 박사, 우주선, \n",
      "가족: 엄마, 아빠, 가족, 영화제, 자신, 위해, 친구, 아주르, 아버지, 시작, 그녀, 아들, 마을, 국제, 낙타, \n",
      "공연: 오페라, 사랑, 토스카, 실황, 올레, 자신, 카바, 그녀, 공연, 오텔로, 리골레토, 백작, 프레, 베르디, 위해, \n",
      "공포(호러): 시작, 위해, 사람, 자신, 친구, 그녀, 사건, 공포, 발견, 죽음, 마을, 가족, 악령, 남자, 좀비, \n",
      "기타: 영화제, 국제, 서울, 단편, 영화, 자신, 사람, 이야기, 그녀, 남자, 위해, 시작, 사랑, 뉴미디어, 페스티벌, \n",
      "다큐멘터리: 영화제, 영화, 다큐, 국제, 다큐멘터리, 사람, 이야기, 대한, 자신, 감독, 위해, 서울, 우리, 시작, 세계, \n",
      "드라마: 자신, 영화제, 그녀, 사람, 사랑, 영화, 위해, 시작, 국제, 남자, 친구, 이야기, 엄마, 여자, 아버지, \n",
      "멜로로맨스: 그녀, 사랑, 자신, 시작, 남편, 남자, 여자, 사람, 친구, 섹스, 위해, 마음, 결혼, 서로, 아내, \n",
      "뮤지컬: 뮤지컬, 사랑, 에스메랄다, 그녀, 음악, 충무로, 모차르트, 영화, 토스카, 자신, 니웨, 카바, 영화제, 바흐, 페뷔스, \n",
      "미스터리: 사건, 그녀, 시작, 자신, 위해, 사람, 발견, 사고, 진실, 죽음, 기억, 살인, 친구, 아내, 남자, \n",
      "범죄: 사건, 위해, 자신, 경찰, 시작, 그녀, 범죄, 조직, 살인, 사람, 마약, 형사, 남자, 모든, 살해, \n",
      "사극: 조선, 위해, 시작, 신기전, 사랑, 자신, 아가멤논, 황제, 그녀, 루안, 최고, 운명, 사람, 하선, 전쟁, \n",
      "서부극(웨스턴): 서부, 보안관, 위해, 벌린, 카우보이, 그레이프바인, 헨리, 마을, 자신, 개릿, 아이, 시작, 무법자, 프린트, 마적, \n",
      "성인물(에로): 그녀, 남편, 마사지, 자신, 섹스, 관계, 영화, 정사, 남자, 위해, 시작, 여자, 유부녀, 마음, 사랑, \n",
      "스릴러: 자신, 그녀, 사건, 시작, 위해, 사람, 살인, 남자, 발견, 아내, 경찰, 친구, 모든, 사실, 살해, \n",
      "애니메이션: 애니메이션, 국제, 영화제, 친구, 인디애니페스트, 위해, 자신, 시작, 사람, 페스티벌, 서울, 이야기, 아이, 마을, 소녀, \n",
      "액션: 위해, 자신, 시작, 조직, 사건, 사람, 그녀, 경찰, 전쟁, 모든, 목숨, 사실, 친구, 가족, 요원, \n",
      "어드벤처: 위해, 자신, 시작, 친구, 마을, 아버지, 영화, 아이, 사람, 여행, 세계, 앤트, 세상, 가족, 모험, \n",
      "전쟁: 전쟁, 독일군, 전투, 위해, 작전, 시작, 부대, 윈터스, 독일, 연합군, 미군, 임무, 자신, 사람, 나치, \n",
      "코미디: 그녀, 자신, 시작, 위해, 사랑, 사람, 친구, 영화, 남자, 여자, 영화제, 가족, 과연, 마을, 사건, \n",
      "판타지: 자신, 그녀, 시작, 위해, 사람, 사랑, 요괴, 영화제, 이야기, 영화, 소녀, 남자, 인간, 세상, 마을, \n"
     ]
    }
   ],
   "source": [
    "m = [X[i].tocoo() for i in range(X.shape[0])] #TF-IDF로 표현한 희소행렬\n",
    "\n",
    "w = [[[i, j] for i, j in zip(mm.col, mm.data)] for mm in m]\n",
    "\n",
    "for i in range(len(w)):\n",
    "    w[i].sort(key=lambda x: x[1], reverse=True) #정렬\n",
    "    \n",
    "\n",
    "#각 장르별 대표하는 단어 상위 15개 추출\n",
    "attributes = []\n",
    "for i in range(len(w)):\n",
    "    print(genre_name[i], end=': ')\n",
    "    attr = []\n",
    "    j = 0\n",
    "    while (len(attr) < 15):\n",
    "        if vectorizer.get_feature_names()[w[i][j][0]] in model.wv:\n",
    "            attr.append(vectorizer.get_feature_names()[w[i][j][0]])\n",
    "            print(vectorizer.get_feature_names()[w[i][j][0]], end=', ')\n",
    "        j += 1\n",
    "    attributes.append(attr)\n",
    "    print()"
   ]
  },
  {
   "cell_type": "markdown",
   "id": "cb0dbb1c",
   "metadata": {},
   "source": [
    "- 약간이지만 중복이 존재하기는 하나 감수하고 실험 진행"
   ]
  },
  {
   "cell_type": "markdown",
   "id": "78c93973",
   "metadata": {},
   "source": [
    "4. WEAT score 계산과 시각화"
   ]
  },
  {
   "cell_type": "code",
   "execution_count": 18,
   "id": "3f08ff20",
   "metadata": {},
   "outputs": [],
   "source": [
    "import numpy as np\n",
    "from numpy import dot\n",
    "from numpy.linalg import norm\n",
    "\n",
    "def cos_sim(i, j):\n",
    "    return dot(i, j.T)/(norm(i)*norm(j))\n",
    "\n",
    "def s(w, A, B):\n",
    "    c_a = cos_sim(w, A)\n",
    "    c_b = cos_sim(w, B)\n",
    "    mean_A = np.mean(c_a, axis=-1)\n",
    "    mean_B = np.mean(c_b, axis=-1)\n",
    "    return mean_A - mean_B \n",
    "    \n",
    "def weat_score(X, Y, A, B):\n",
    "    s_X = s(X, A, B)\n",
    "    s_Y = s(Y, A, B)\n",
    "\n",
    "    mean_X = np.mean(s_X)\n",
    "    mean_Y = np.mean(s_Y)\n",
    "    \n",
    "    std_dev = np.std(np.concatenate([s_X, s_Y], axis=0))\n",
    "    \n",
    "    return  (mean_X-mean_Y)/std_dev"
   ]
  },
  {
   "cell_type": "code",
   "execution_count": 19,
   "id": "203df65a",
   "metadata": {},
   "outputs": [],
   "source": [
    "# 21 x 21 matrix 생성\n",
    "matrix = [[0 for _ in range(len(genre_name))] for _ in range(len(genre_name))]\n",
    "\n",
    "X = np.array([model.wv[word] for word in target_art])\n",
    "Y = np.array([model.wv[word] for word in target_gen])\n",
    "\n",
    "for i in range(len(genre_name)-1):\n",
    "    for j in range(i+1, len(genre_name)):\n",
    "        A = np.array([model.wv[word] for word in attributes[i]])\n",
    "        B = np.array([model.wv[word] for word in attributes[j]])\n",
    "        matrix[i][j] = weat_score(X, Y, A, B)"
   ]
  },
  {
   "cell_type": "code",
   "execution_count": 20,
   "id": "9615c73b",
   "metadata": {},
   "outputs": [
    {
     "name": "stdout",
     "output_type": "stream",
     "text": [
      "SF 가족 -0.61765355\n",
      "SF 공연 -0.43820634\n",
      "SF 공포(호러) -0.9103928\n",
      "SF 기타 0.6295869\n",
      "SF 다큐멘터리 0.9935389\n",
      "SF 드라마 -0.49496576\n",
      "SF 멜로로맨스 -0.89855003\n",
      "SF 뮤지컬 0.52185255\n",
      "SF 미스터리 -0.9277473\n",
      "SF 범죄 -0.4822306\n",
      "SF 사극 -1.0105517\n",
      "SF 서부극(웨스턴) -0.46314815\n",
      "SF 성인물(에로) -0.69516885\n",
      "SF 스릴러 -0.80245495\n",
      "SF 애니메이션 0.7046766\n",
      "SF 액션 -0.7757595\n",
      "SF 어드벤처 -1.094515\n",
      "SF 전쟁 0.3827817\n",
      "SF 코미디 -0.6131283\n",
      "SF 판타지 -0.37258753\n",
      "가족 공연 0.19914012\n",
      "가족 공포(호러) -0.39505684\n",
      "가족 기타 1.149056\n",
      "가족 다큐멘터리 1.1698619\n",
      "가족 드라마 0.24524939\n",
      "가족 멜로로맨스 -0.82471114\n",
      "가족 뮤지컬 0.9859372\n",
      "가족 미스터리 -0.6062869\n",
      "가족 범죄 0.1564785\n",
      "가족 사극 -0.26837963\n",
      "가족 서부극(웨스턴) 0.5856601\n",
      "가족 성인물(에로) -0.5182955\n",
      "가족 스릴러 -0.47966644\n",
      "가족 애니메이션 1.2175798\n",
      "가족 액션 -0.1321413\n",
      "가족 어드벤처 -0.17408237\n",
      "가족 전쟁 0.77306765\n",
      "가족 코미디 0.15423717\n",
      "가족 판타지 0.56377983\n",
      "공연 공포(호러) -0.37351325\n",
      "공연 기타 1.4632543\n",
      "공연 다큐멘터리 1.3742125\n",
      "공연 드라마 -0.025626045\n",
      "공연 멜로로맨스 -0.7972385\n",
      "공연 뮤지컬 1.4030788\n",
      "공연 미스터리 -0.5572483\n",
      "공연 범죄 -0.025947675\n",
      "공연 사극 -0.53312916\n",
      "공연 서부극(웨스턴) 0.16420294\n",
      "공연 성인물(에로) -0.58296055\n",
      "공연 스릴러 -0.45167375\n",
      "공연 애니메이션 1.3000196\n",
      "공연 액션 -0.23088308\n",
      "공연 어드벤처 -0.26938903\n",
      "공연 전쟁 0.7721865\n",
      "공연 코미디 -0.08696614\n",
      "공연 판타지 0.31464368\n",
      "공포(호러) 기타 0.95363384\n",
      "공포(호러) 다큐멘터리 1.0785476\n",
      "공포(호러) 드라마 0.5282916\n",
      "공포(호러) 멜로로맨스 -0.6819481\n",
      "공포(호러) 뮤지컬 0.8596681\n",
      "공포(호러) 미스터리 -0.80291474\n",
      "공포(호러) 범죄 0.67235065\n",
      "공포(호러) 사극 0.22630146\n",
      "공포(호러) 서부극(웨스턴) 0.64423776\n",
      "공포(호러) 성인물(에로) -0.28932846\n",
      "공포(호러) 스릴러 -0.23610151\n",
      "공포(호러) 애니메이션 0.9835724\n",
      "공포(호러) 액션 0.50370276\n",
      "공포(호러) 어드벤처 0.37604088\n",
      "공포(호러) 전쟁 0.75660646\n",
      "공포(호러) 코미디 0.6315284\n",
      "공포(호러) 판타지 0.8608427\n",
      "기타 다큐멘터리 0.6691617\n",
      "기타 드라마 -1.162621\n",
      "기타 멜로로맨스 -1.1162577\n",
      "기타 뮤지컬 -0.2935563\n",
      "기타 미스터리 -0.99177754\n",
      "기타 범죄 -0.8326827\n",
      "기타 사극 -1.3039078\n",
      "기타 서부극(웨스턴) -1.003429\n",
      "기타 성인물(에로) -1.0164107\n",
      "기타 스릴러 -0.95935214\n",
      "기타 애니메이션 0.110680155\n",
      "기타 액션 -0.95627105\n",
      "기타 어드벤처 -1.1045436\n",
      "기타 전쟁 -0.3370006\n",
      "기타 코미디 -1.0853782\n",
      "기타 판타지 -0.95733607\n",
      "다큐멘터리 드라마 -1.1931063\n",
      "다큐멘터리 멜로로맨스 -1.1301575\n",
      "다큐멘터리 뮤지컬 -0.86213785\n",
      "다큐멘터리 미스터리 -1.0877244\n",
      "다큐멘터리 범죄 -0.95033026\n",
      "다큐멘터리 사극 -1.4009889\n",
      "다큐멘터리 서부극(웨스턴) -1.1324474\n",
      "다큐멘터리 성인물(에로) -1.042422\n",
      "다큐멘터리 스릴러 -1.0428245\n",
      "다큐멘터리 애니메이션 -0.54071325\n",
      "다큐멘터리 액션 -1.079961\n",
      "다큐멘터리 어드벤처 -1.2941258\n",
      "다큐멘터리 전쟁 -0.6896515\n",
      "다큐멘터리 코미디 -1.1757644\n",
      "다큐멘터리 판타지 -1.1902612\n",
      "드라마 멜로로맨스 -1.0349482\n",
      "드라마 뮤지컬 1.0063378\n",
      "드라마 미스터리 -0.7553612\n",
      "드라마 범죄 -0.013016076\n",
      "드라마 사극 -0.5692338\n",
      "드라마 서부극(웨스턴) 0.18772697\n",
      "드라마 성인물(에로) -0.7641588\n",
      "드라마 스릴러 -0.6270457\n",
      "드라마 애니메이션 1.0901873\n",
      "드라마 액션 -0.281835\n",
      "드라마 어드벤처 -0.35180387\n",
      "드라마 전쟁 0.61199844\n",
      "드라마 코미디 -0.17693606\n",
      "드라마 판타지 0.56467056\n",
      "멜로로맨스 뮤지컬 1.0499476\n",
      "멜로로맨스 미스터리 0.48902047\n",
      "멜로로맨스 범죄 0.9457747\n",
      "멜로로맨스 사극 0.71099544\n",
      "멜로로맨스 서부극(웨스턴) 0.8294932\n",
      "멜로로맨스 성인물(에로) 1.0880795\n",
      "멜로로맨스 스릴러 0.76251084\n",
      "멜로로맨스 애니메이션 1.0711757\n",
      "멜로로맨스 액션 0.8109377\n",
      "멜로로맨스 어드벤처 0.69301146\n",
      "멜로로맨스 전쟁 0.8469149\n",
      "멜로로맨스 코미디 1.0004325\n",
      "멜로로맨스 판타지 1.0013925\n",
      "뮤지컬 미스터리 -0.92015123\n",
      "뮤지컬 범죄 -0.7395134\n",
      "뮤지컬 사극 -1.2032335\n",
      "뮤지컬 서부극(웨스턴) -0.8464182\n",
      "뮤지컬 성인물(에로) -0.9524983\n",
      "뮤지컬 스릴러 -0.8780327\n",
      "뮤지컬 애니메이션 0.2377129\n",
      "뮤지컬 액션 -0.85967845\n",
      "뮤지컬 어드벤처 -0.9855324\n",
      "뮤지컬 전쟁 -0.23356634\n",
      "뮤지컬 코미디 -0.9436404\n",
      "뮤지컬 판타지 -0.80829144\n",
      "미스터리 범죄 0.96210533\n",
      "미스터리 사극 0.49690545\n",
      "미스터리 서부극(웨스턴) 0.742277\n",
      "미스터리 성인물(에로) -0.0142411245\n",
      "미스터리 스릴러 0.79052114\n",
      "미스터리 애니메이션 0.9929299\n",
      "미스터리 액션 0.80363756\n",
      "미스터리 어드벤처 0.5926181\n",
      "미스터리 전쟁 0.7996823\n",
      "미스터리 코미디 0.84683645\n",
      "미스터리 판타지 0.93929565\n",
      "범죄 사극 -0.39154264\n",
      "범죄 서부극(웨스턴) 0.1982114\n",
      "범죄 성인물(에로) -0.62729836\n",
      "범죄 스릴러 -0.95578855\n",
      "범죄 애니메이션 0.8477356\n",
      "범죄 액션 -0.71481085\n",
      "범죄 어드벤처 -0.27679482\n",
      "범죄 전쟁 0.625898\n",
      "범죄 코미디 -0.058454126\n",
      "범죄 판타지 0.30607754\n",
      "사극 서부극(웨스턴) 0.748949\n",
      "사극 성인물(에로) -0.41819507\n",
      "사극 스릴러 -0.31083447\n",
      "사극 애니메이션 1.2785338\n",
      "사극 액션 0.13005292\n",
      "사극 어드벤처 0.092869654\n",
      "사극 전쟁 0.95316577\n",
      "사극 코미디 0.5657355\n",
      "사극 판타지 1.0788151\n",
      "서부극(웨스턴) 성인물(에로) -0.58216655\n",
      "서부극(웨스턴) 스릴러 -0.6465031\n",
      "서부극(웨스턴) 애니메이션 1.150645\n",
      "서부극(웨스턴) 액션 -0.54505694\n",
      "서부극(웨스턴) 어드벤처 -0.67286146\n",
      "서부극(웨스턴) 전쟁 0.7787651\n",
      "서부극(웨스턴) 코미디 -0.29252025\n",
      "서부극(웨스턴) 판타지 0.18252426\n",
      "성인물(에로) 스릴러 0.26137424\n",
      "성인물(에로) 애니메이션 0.95148414\n",
      "성인물(에로) 액션 0.47092587\n",
      "성인물(에로) 어드벤처 0.4030526\n",
      "성인물(에로) 전쟁 0.70167\n",
      "성인물(에로) 코미디 0.6946502\n",
      "성인물(에로) 판타지 0.7694097\n",
      "스릴러 애니메이션 0.9614443\n",
      "스릴러 액션 0.6512111\n",
      "스릴러 어드벤처 0.3694511\n",
      "스릴러 전쟁 0.7493921\n",
      "스릴러 코미디 0.702201\n",
      "스릴러 판타지 0.7973578\n",
      "애니메이션 액션 -0.9872244\n",
      "애니메이션 어드벤처 -1.1758825\n",
      "애니메이션 전쟁 -0.46055472\n",
      "애니메이션 코미디 -1.0644057\n",
      "애니메이션 판타지 -0.96227854\n",
      "액션 어드벤처 -0.04655183\n",
      "액션 전쟁 0.7714719\n",
      "액션 코미디 0.2997274\n",
      "액션 판타지 0.6158802\n",
      "어드벤처 전쟁 0.8398277\n",
      "어드벤처 코미디 0.38454518\n",
      "어드벤처 판타지 1.1074226\n",
      "전쟁 코미디 -0.65699834\n",
      "전쟁 판타지 -0.48894855\n",
      "코미디 판타지 0.7959296\n"
     ]
    }
   ],
   "source": [
    "for i in range(len(genre_name)-1):\n",
    "    for j in range(i+1, len(genre_name)):\n",
    "        print(genre_name[i], genre_name[j],matrix[i][j])"
   ]
  },
  {
   "cell_type": "code",
   "execution_count": 21,
   "id": "4d963743",
   "metadata": {},
   "outputs": [
    {
     "name": "stdout",
     "output_type": "stream",
     "text": [
      "[  Over 1.0 :  19   ]\n",
      "가족 기타 1.149056\n",
      "가족 다큐멘터리 1.1698619\n",
      "가족 애니메이션 1.2175798\n",
      "공연 기타 1.4632543\n",
      "공연 다큐멘터리 1.3742125\n",
      "공연 뮤지컬 1.4030788\n",
      "공연 애니메이션 1.3000196\n",
      "공포(호러) 다큐멘터리 1.0785476\n",
      "드라마 뮤지컬 1.0063378\n",
      "드라마 애니메이션 1.0901873\n",
      "멜로로맨스 뮤지컬 1.0499476\n",
      "멜로로맨스 성인물(에로) 1.0880795\n",
      "멜로로맨스 애니메이션 1.0711757\n",
      "멜로로맨스 코미디 1.0004325\n",
      "멜로로맨스 판타지 1.0013925\n",
      "사극 애니메이션 1.2785338\n",
      "사극 판타지 1.0788151\n",
      "서부극(웨스턴) 애니메이션 1.150645\n",
      "어드벤처 판타지 1.1074226\n",
      "\n",
      "[  Under -1.0 :  24   ]\n",
      "SF 사극 -1.0105517\n",
      "SF 어드벤처 -1.094515\n",
      "기타 드라마 -1.162621\n",
      "기타 멜로로맨스 -1.1162577\n",
      "기타 사극 -1.3039078\n",
      "기타 서부극(웨스턴) -1.003429\n",
      "기타 성인물(에로) -1.0164107\n",
      "기타 어드벤처 -1.1045436\n",
      "기타 코미디 -1.0853782\n",
      "다큐멘터리 드라마 -1.1931063\n",
      "다큐멘터리 멜로로맨스 -1.1301575\n",
      "다큐멘터리 미스터리 -1.0877244\n",
      "다큐멘터리 사극 -1.4009889\n",
      "다큐멘터리 서부극(웨스턴) -1.1324474\n",
      "다큐멘터리 성인물(에로) -1.042422\n",
      "다큐멘터리 스릴러 -1.0428245\n",
      "다큐멘터리 액션 -1.079961\n",
      "다큐멘터리 어드벤처 -1.2941258\n",
      "다큐멘터리 코미디 -1.1757644\n",
      "다큐멘터리 판타지 -1.1902612\n",
      "드라마 멜로로맨스 -1.0349482\n",
      "뮤지컬 사극 -1.2032335\n",
      "애니메이션 어드벤처 -1.1758825\n",
      "애니메이션 코미디 -1.0644057\n"
     ]
    }
   ],
   "source": [
    "#WEAR score 1기준으로 나눠서 확인\n",
    "over1 = [] #1이상\n",
    "under_1 = [] #-1이하\n",
    "\n",
    "for i in range(len(genre_name)-1):\n",
    "    for j in range(i+1, len(genre_name)):\n",
    "        if matrix[i][j] >= 1.0 : \n",
    "            over1.append([i, j, matrix[i][j]])\n",
    "        if matrix[i][j] <= -1.0 : \n",
    "            under_1.append([i, j, matrix[i][j]])\n",
    "\n",
    "print(\"[  Over 1.0 : \", len(over1), \"  ]\")\n",
    "for i, j, score in over1:\n",
    "    print(genre_name[i], genre_name[j], score)\n",
    "print()\n",
    "print(\"[  Under -1.0 : \", len(under_1), \"  ]\")\n",
    "for i, j, score in under_1:\n",
    "    print(genre_name[i], genre_name[j], score)"
   ]
  },
  {
   "cell_type": "code",
   "execution_count": 22,
   "id": "682dd08f",
   "metadata": {},
   "outputs": [
    {
     "data": {
      "text/plain": [
       "<AxesSubplot:>"
      ]
     },
     "execution_count": 22,
     "metadata": {},
     "output_type": "execute_result"
    },
    {
     "data": {
      "image/png": "[encoded data removed]",
      "text/plain": [
       "<Figure size 1080x720 with 2 Axes>"
      ]
     },
     "metadata": {},
     "output_type": "display_data"
    }
   ],
   "source": [
    "import numpy as np\n",
    "import seaborn as sns\n",
    "import matplotlib.pyplot as plt\n",
    "\n",
    "np.random.seed(0)\n",
    "\n",
    "# 한글 지원 폰트\n",
    "sns.set(font='NanumGothic')\n",
    "\n",
    "# 마이너스 부호 \n",
    "\n",
    "plt.rcParams['axes.unicode_minus'] = False\n",
    "plt.rcParams['figure.figsize'] = (15,10)\n",
    "ax = sns.heatmap(matrix, xticklabels=genre_name, yticklabels=genre_name, annot=False,  cmap='RdYlGn_r')\n",
    "ax"
   ]
  },
  {
   "cell_type": "code",
   "execution_count": 23,
   "id": "a45bc354",
   "metadata": {},
   "outputs": [
    {
     "data": {
      "text/plain": [
       "<AxesSubplot:>"
      ]
     },
     "execution_count": 23,
     "metadata": {},
     "output_type": "execute_result"
    },
    {
     "data": {
      "image/png": "[encoded data removed]",
      "text/plain": [
       "<Figure size 1080x720 with 2 Axes>"
      ]
     },
     "metadata": {},
     "output_type": "display_data"
    }
   ],
   "source": [
    "matrix2 = [[0 for _ in range(len(genre_name))] for _ in range(len(genre_name))]\n",
    "\n",
    "for i,j, score in over1:\n",
    "    matrix2[i][j] = score\n",
    "    \n",
    "for i,j, score in under_1:\n",
    "    matrix2[i][j] = score\n",
    "    \n",
    "np.random.seed(0)\n",
    "\n",
    "# 한글 지원 폰트\n",
    "sns.set(font='NanumGothic')\n",
    "\n",
    "# 마이너스 부호 \n",
    "\n",
    "plt.rcParams['axes.unicode_minus'] = False\n",
    "plt.rcParams['figure.figsize'] = (15,10)\n",
    "ax = sns.heatmap(matrix2, xticklabels=genre_name, yticklabels=genre_name, annot=False,  cmap='RdYlGn_r')\n",
    "ax"
   ]
  },
  {
   "cell_type": "markdown",
   "id": "639767da",
   "metadata": {},
   "source": [
    "---"
   ]
  },
  {
   "cell_type": "markdown",
   "id": "6b61d1fb",
   "metadata": {},
   "source": [
    "## attribute 단어 셋 정제\n",
    "- 불용어 처리\n",
    "- 단어 중복 처리"
   ]
  },
  {
   "cell_type": "code",
   "execution_count": 24,
   "id": "94d3b002",
   "metadata": {},
   "outputs": [
    {
     "name": "stdout",
     "output_type": "stream",
     "text": [
      "SF: 지구, 인류, 인간, 미래, 우주, 로봇, 세계, 모든, 박사, 우주선, 외계, 존재, 세상, 발견, 행성, \n",
      "가족: 엄마, 아빠, 가족, 영화제, 친구, 아주르, 아버지, 아들, 마을, 국제, 낙타, 할머니, 씨제이, 동구, 사랑, \n",
      "공연: 오페라, 토스카, 실황, 올레, 카바, 공연, 오텔로, 리골레토, 백작, 프레, 베르디, 카르피, 비바, 왕자, 콘서트, \n",
      "공포(호러): 사건, 공포, 죽음, 악령, 남자, 좀비, 사실, 소녀, 하나, 살인, 이야기, 비밀, 아이, 정체, 저주, \n",
      "기타: 서울, 단편, 뉴미디어, 페스티벌, 여자, 대한, 독립, 작품, 통해, 아시아나, 다른, 우리, 연출, 모습, 시간, \n",
      "다큐멘터리: 다큐, 다큐멘터리, 감독, 여성, 한국, 환경, 사회, 노동자, 가장, 기록, 역사, 음악, 미국, 명의, 카메라, \n",
      "드라마: 마음, 남편, 서로, 다시, 관계, 생각, 아내, 사이, 소년, 때문, 부문, 어머니, 학교, 생활, 결혼, \n",
      "멜로로맨스: 섹스, 부부, 점점, 회사, 유혹, 연애, 애인, 새엄마, 불륜, 남자친구, 유부녀, 감정, 정사, 출장, 선배, \n",
      "뮤지컬: 뮤지컬, 에스메랄다, 충무로, 모차르트, 니웨, 바흐, 페뷔스, 프롤, 모도, 제루샤, 샤오캉, 데이비, 팬텀, 최고, 크리스틴, \n",
      "미스터리: 사고, 진실, 기억, 민혁, 의문, 미스터리, 형사, 경찰, 현우, 발생, 방독면, 과연, 범인, 살해, 모두, \n",
      "범죄: 범죄, 조직, 마약, 수사, 한길수, 계획, 은행, 작전, 동료, 보스, 한편, 상황, 마피아, 용의자, 복수, \n",
      "사극: 조선, 신기전, 아가멤논, 황제, 루안, 운명, 하선, 전쟁, 윤서, 트로이, 세자, 허균, 노준, 채선, 신재효, \n",
      "서부극(웨스턴): 서부, 보안관, 벌린, 카우보이, 그레이프바인, 헨리, 개릿, 무법자, 프린트, 마적, 태구, 현상금, 분노, 버질, 랜던, \n",
      "성인물(에로): 마사지, 에피소드, 그린, 자위, 욕구, 유이, 욕구불만, 손님, 유우, 성적, 성관계, 유코, 유미, 행각, 유키, \n",
      "스릴러: 충격, 시체, 게임, 계속, 목숨, 현장, 과거, 순간, 이제, 납치, 요원, 실종, 의심, 동생, 위협, \n",
      "애니메이션: 애니메이션, 인디애니페스트, 애니, 만화, 도롱, 부천, 동물, 최강, 모험, 할아버지, 도시, 주인공, 마법, 경쟁, 고양이, \n",
      "액션: 임무, 테러, 공격, 음모, 마지막, 이자, 위기, 탈출, 킬러, 무기, 암살, 부대, 갱단, 무술, 전투, \n",
      "어드벤처: 여행, 앤트, 여정, 옥자, 원주민, 보물, 윈치, 펠레, 크루소, 요정, 이름, 지역, 양말, 루카스, 부족, \n",
      "전쟁: 독일군, 윈터스, 독일, 연합군, 미군, 나치, 병사, 이지중대, 혁리, 대원, 중위, 세계대전, 군인, 동막골, 대위, \n",
      "코미디: 인생, 코미디, 바로, 여자친구, 파티, 배우, 매력, 하루, 밴드, 제안, 결심, 문제, 동안, 가지, 준비, \n",
      "판타지: 요괴, 알렉스, 순영, 판타스틱, 유령, 현실, 공주, 남보라, 뱀파이어, 차사, 괴물, 니모, 전설, 왕국, 원풍, \n"
     ]
    }
   ],
   "source": [
    "#단어 목록\n",
    "feature_names = vectorizer.get_feature_names()\n",
    "\n",
    "# 불용어로 제거할 단어들을 정의\n",
    "stop_words = ['자신', '위해', '사람', '영화', '그녀', '그', '시작'] \n",
    "\n",
    "# 각 장르별로 상위 15개의 단어를 추출 (중복 없이)\n",
    "attributes = []\n",
    "used_words = set() #이미 사용된 단어들을 추적하는 집합\n",
    "for i in range(len(w)):\n",
    "    print(genre_name[i], end=': ')\n",
    "    attr = []\n",
    "    j = 0\n",
    "    while len(attr) < 15 and j < len(w[i]):\n",
    "        word_index = w[i][j][0]\n",
    "        word = feature_names[word_index]\n",
    "        \n",
    "        #불용어X, Word2Vec 단어장의 단어O, 중복단어X,장르마다 중복단어X\n",
    "        if word not in stop_words and word not in attr and word in model.wv and word not in used_words:\n",
    "            attr.append(word)\n",
    "            used_words.add(word)\n",
    "            print(word, end=', ')\n",
    "        j += 1\n",
    "    attributes.append(attr)\n",
    "    print()"
   ]
  },
  {
   "cell_type": "code",
   "execution_count": 25,
   "id": "d2a8c9af",
   "metadata": {},
   "outputs": [],
   "source": [
    "# 21 x 21 matrix 생성\n",
    "matrix3 = [[0 for _ in range(len(genre_name))] for _ in range(len(genre_name))]\n",
    "\n",
    "X = np.array([model.wv[word] for word in target_art])\n",
    "Y = np.array([model.wv[word] for word in target_gen])\n",
    "\n",
    "for i in range(len(genre_name)-1):\n",
    "    for j in range(i+1, len(genre_name)):\n",
    "        A = np.array([model.wv[word] for word in attributes[i]])\n",
    "        B = np.array([model.wv[word] for word in attributes[j]])\n",
    "        matrix3[i][j] = weat_score(X, Y, A, B)"
   ]
  },
  {
   "cell_type": "code",
   "execution_count": 26,
   "id": "f9a4e4de",
   "metadata": {},
   "outputs": [
    {
     "name": "stdout",
     "output_type": "stream",
     "text": [
      "SF 가족 -0.7573803\n",
      "SF 공연 0.07770817\n",
      "SF 공포(호러) -0.8910445\n",
      "SF 기타 0.46858022\n",
      "SF 다큐멘터리 0.7434212\n",
      "SF 드라마 -0.74969655\n",
      "SF 멜로로맨스 -0.7225842\n",
      "SF 뮤지컬 0.29655328\n",
      "SF 미스터리 -0.8585601\n",
      "SF 범죄 -0.30317554\n",
      "SF 사극 -0.50880086\n",
      "SF 서부극(웨스턴) -0.4689693\n",
      "SF 성인물(에로) -0.5419269\n",
      "SF 스릴러 -1.0484788\n",
      "SF 애니메이션 0.46580783\n",
      "SF 액션 -0.24853224\n",
      "SF 어드벤처 -0.50159556\n",
      "SF 전쟁 0.5193975\n",
      "SF 코미디 -0.8002183\n",
      "SF 판타지 -0.6010964\n",
      "가족 공연 0.6705795\n",
      "가족 공포(호러) -0.1805756\n",
      "가족 기타 1.2097518\n",
      "가족 다큐멘터리 1.0438666\n",
      "가족 드라마 -0.47377685\n",
      "가족 멜로로맨스 -0.5783774\n",
      "가족 뮤지컬 0.86068434\n",
      "가족 미스터리 -0.23437311\n",
      "가족 범죄 0.51596224\n",
      "가족 사극 0.5937725\n",
      "가족 서부극(웨스턴) 0.65354997\n",
      "가족 성인물(에로) -0.20316318\n",
      "가족 스릴러 -0.6004025\n",
      "가족 애니메이션 1.0562813\n",
      "가족 액션 0.5758136\n",
      "가족 어드벤처 0.5068739\n",
      "가족 전쟁 0.878076\n",
      "가족 코미디 -0.39430565\n",
      "가족 판타지 0.720534\n",
      "공연 공포(호러) -0.5409359\n",
      "공연 기타 0.32134297\n",
      "공연 다큐멘터리 0.7154379\n",
      "공연 드라마 -0.68750215\n",
      "공연 멜로로맨스 -0.7350333\n",
      "공연 뮤지컬 1.3779122\n",
      "공연 미스터리 -0.57429856\n",
      "공연 범죄 -0.3825789\n",
      "공연 사극 -0.53043747\n",
      "공연 서부극(웨스턴) -0.5500688\n",
      "공연 성인물(에로) -0.5831604\n",
      "공연 스릴러 -0.7151547\n",
      "공연 애니메이션 0.5237671\n",
      "공연 액션 -0.33885387\n",
      "공연 어드벤처 -0.49443814\n",
      "공연 전쟁 0.78113836\n",
      "공연 코미디 -0.8795135\n",
      "공연 판타지 -0.41084802\n",
      "공포(호러) 기타 1.0182545\n",
      "공포(호러) 다큐멘터리 0.95529467\n",
      "공포(호러) 드라마 -0.17066231\n",
      "공포(호러) 멜로로맨스 -0.45429367\n",
      "공포(호러) 뮤지컬 0.68671113\n",
      "공포(호러) 미스터리 -0.14104758\n",
      "공포(호러) 범죄 0.50043184\n",
      "공포(호러) 사극 0.50423205\n",
      "공포(호러) 서부극(웨스턴) 0.4625977\n",
      "공포(호러) 성인물(에로) -0.05866048\n",
      "공포(호러) 스릴러 -0.9437918\n",
      "공포(호러) 애니메이션 0.8251946\n",
      "공포(호러) 액션 0.53388864\n",
      "공포(호러) 어드벤처 0.4544459\n",
      "공포(호러) 전쟁 0.74966276\n",
      "공포(호러) 코미디 -0.114554666\n",
      "공포(호러) 판타지 0.59827113\n",
      "기타 다큐멘터리 0.5222446\n",
      "기타 드라마 -1.1633959\n",
      "기타 멜로로맨스 -1.0234082\n",
      "기타 뮤지컬 -0.01166732\n",
      "기타 미스터리 -0.989894\n",
      "기타 범죄 -0.6426795\n",
      "기타 사극 -1.1138107\n",
      "기타 서부극(웨스턴) -0.94682604\n",
      "기타 성인물(에로) -0.93434006\n",
      "기타 스릴러 -1.1190121\n",
      "기타 애니메이션 0.063156076\n",
      "기타 액션 -0.60324615\n",
      "기타 어드벤처 -0.9638096\n",
      "기타 전쟁 0.30157518\n",
      "기타 코미디 -1.4472072\n",
      "기타 판타지 -1.0303997\n",
      "다큐멘터리 드라마 -0.9893888\n",
      "다큐멘터리 멜로로맨스 -0.9175748\n",
      "다큐멘터리 뮤지컬 -0.45549548\n",
      "다큐멘터리 미스터리 -0.9532632\n",
      "다큐멘터리 범죄 -0.7664868\n",
      "다큐멘터리 사극 -1.2093194\n",
      "다큐멘터리 서부극(웨스턴) -0.98256415\n",
      "다큐멘터리 성인물(에로) -0.82665\n",
      "다큐멘터리 스릴러 -1.05239\n",
      "다큐멘터리 애니메이션 -0.45446745\n",
      "다큐멘터리 액션 -0.89232886\n",
      "다큐멘터리 어드벤처 -1.2046095\n",
      "다큐멘터리 전쟁 0.08736061\n",
      "다큐멘터리 코미디 -1.1877066\n",
      "다큐멘터리 판타지 -1.0419534\n",
      "드라마 멜로로맨스 -0.6134801\n",
      "드라마 뮤지컬 0.8239478\n",
      "드라마 미스터리 0.114055865\n",
      "드라마 범죄 0.6482854\n",
      "드라마 사극 0.6224202\n",
      "드라마 서부극(웨스턴) 0.63378036\n",
      "드라마 성인물(에로) 0.10883296\n",
      "드라마 스릴러 -0.29469544\n",
      "드라마 애니메이션 0.92724395\n",
      "드라마 액션 0.59863293\n",
      "드라마 어드벤처 0.53082484\n",
      "드라마 전쟁 0.81780934\n",
      "드라마 코미디 0.038426485\n",
      "드라마 판타지 0.66776484\n",
      "멜로로맨스 뮤지컬 0.8268998\n",
      "멜로로맨스 미스터리 0.43043137\n",
      "멜로로맨스 범죄 0.7319738\n",
      "멜로로맨스 사극 0.6465936\n",
      "멜로로맨스 서부극(웨스턴) 0.67167485\n",
      "멜로로맨스 성인물(에로) 1.2101578\n",
      "멜로로맨스 스릴러 0.19775946\n",
      "멜로로맨스 애니메이션 0.8703828\n",
      "멜로로맨스 액션 0.6455228\n",
      "멜로로맨스 어드벤처 0.58058256\n",
      "멜로로맨스 전쟁 0.8118473\n",
      "멜로로맨스 코미디 0.46238583\n",
      "멜로로맨스 판타지 0.6715067\n",
      "뮤지컬 미스터리 -0.7194866\n",
      "뮤지컬 범죄 -0.61774874\n",
      "뮤지컬 사극 -0.855231\n",
      "뮤지컬 서부극(웨스턴) -0.82361466\n",
      "뮤지컬 성인물(에로) -0.7022406\n",
      "뮤지컬 스릴러 -0.84674865\n",
      "뮤지컬 애니메이션 0.09024094\n",
      "뮤지컬 액션 -0.66441053\n",
      "뮤지컬 어드벤처 -0.80908257\n",
      "뮤지컬 전쟁 0.5439554\n",
      "뮤지컬 코미디 -1.0301648\n",
      "뮤지컬 판타지 -0.69525355\n",
      "미스터리 범죄 0.63593054\n",
      "미스터리 사극 0.55220175\n",
      "미스터리 서부극(웨스턴) 0.546349\n",
      "미스터리 성인물(에로) -0.022248488\n",
      "미스터리 스릴러 -1.5237131\n",
      "미스터리 애니메이션 0.8344399\n",
      "미스터리 액션 0.61254674\n",
      "미스터리 어드벤처 0.48761314\n",
      "미스터리 전쟁 0.7907651\n",
      "미스터리 코미디 -0.070309825\n",
      "미스터리 판타지 0.6224584\n",
      "범죄 사극 -0.023064602\n",
      "범죄 서부극(웨스턴) -0.1613661\n",
      "범죄 성인물(에로) -0.45909527\n",
      "범죄 스릴러 -0.90813833\n",
      "범죄 애니메이션 0.6473141\n",
      "범죄 액션 0.2346195\n",
      "범죄 어드벤처 -0.016932985\n",
      "범죄 전쟁 0.7749173\n",
      "범죄 코미디 -0.7054639\n",
      "범죄 판타지 0.028694\n",
      "사극 서부극(웨스턴) -0.15801671\n",
      "사극 성인물(에로) -0.41475886\n",
      "사극 스릴러 -0.7887071\n",
      "사극 애니메이션 1.0841686\n",
      "사극 액션 0.31678164\n",
      "사극 어드벤처 0.00094989775\n",
      "사극 전쟁 0.8861366\n",
      "사극 코미디 -0.78946537\n",
      "사극 판타지 0.11681788\n",
      "서부극(웨스턴) 성인물(에로) -0.41196364\n",
      "서부극(웨스턴) 스릴러 -0.80951244\n",
      "서부극(웨스턴) 애니메이션 0.9925248\n",
      "서부극(웨스턴) 액션 0.41570935\n",
      "서부극(웨스턴) 어드벤처 0.11449413\n",
      "서부극(웨스턴) 전쟁 0.91064286\n",
      "서부극(웨스턴) 코미디 -0.71230257\n",
      "서부극(웨스턴) 판타지 0.22456373\n",
      "성인물(에로) 스릴러 -0.25107294\n",
      "성인물(에로) 애니메이션 0.75669426\n",
      "성인물(에로) 액션 0.43604618\n",
      "성인물(에로) 어드벤처 0.36472315\n",
      "성인물(에로) 전쟁 0.70682985\n",
      "성인물(에로) 코미디 -0.053344183\n",
      "성인물(에로) 판타지 0.44552943\n",
      "스릴러 애니메이션 0.962452\n",
      "스릴러 액션 0.8243105\n",
      "스릴러 어드벤처 0.70027435\n",
      "스릴러 전쟁 0.8891561\n",
      "스릴러 코미디 0.25443807\n",
      "스릴러 판타지 0.8670813\n",
      "애니메이션 액션 -0.7447785\n",
      "애니메이션 어드벤처 -1.2168111\n",
      "애니메이션 전쟁 0.41612747\n",
      "애니메이션 코미디 -1.100808\n",
      "애니메이션 판타지 -1.0527402\n",
      "액션 어드벤처 -0.24748527\n",
      "액션 전쟁 0.9075506\n",
      "액션 코미디 -0.69938767\n",
      "액션 판타지 -0.17968418\n",
      "어드벤처 전쟁 0.96405923\n",
      "어드벤처 코미디 -0.6229465\n",
      "어드벤처 판타지 0.09314819\n",
      "전쟁 코미디 -0.9161923\n",
      "전쟁 판타지 -0.797053\n",
      "코미디 판타지 0.77167577\n"
     ]
    }
   ],
   "source": [
    "for i in range(len(genre_name)-1):\n",
    "    for j in range(i+1, len(genre_name)):\n",
    "        print(genre_name[i], genre_name[j],matrix3[i][j])"
   ]
  },
  {
   "cell_type": "code",
   "execution_count": 27,
   "id": "b4f29809",
   "metadata": {},
   "outputs": [
    {
     "name": "stdout",
     "output_type": "stream",
     "text": [
      "[  Over 1.0 :  7   ]\n",
      "가족 기타 1.2097518\n",
      "가족 다큐멘터리 1.0438666\n",
      "가족 애니메이션 1.0562813\n",
      "공연 뮤지컬 1.3779122\n",
      "공포(호러) 기타 1.0182545\n",
      "멜로로맨스 성인물(에로) 1.2101578\n",
      "사극 애니메이션 1.0841686\n",
      "\n",
      "[  Under -1.0 :  17   ]\n",
      "SF 스릴러 -1.0484788\n",
      "기타 드라마 -1.1633959\n",
      "기타 멜로로맨스 -1.0234082\n",
      "기타 사극 -1.1138107\n",
      "기타 스릴러 -1.1190121\n",
      "기타 코미디 -1.4472072\n",
      "기타 판타지 -1.0303997\n",
      "다큐멘터리 사극 -1.2093194\n",
      "다큐멘터리 스릴러 -1.05239\n",
      "다큐멘터리 어드벤처 -1.2046095\n",
      "다큐멘터리 코미디 -1.1877066\n",
      "다큐멘터리 판타지 -1.0419534\n",
      "뮤지컬 코미디 -1.0301648\n",
      "미스터리 스릴러 -1.5237131\n",
      "애니메이션 어드벤처 -1.2168111\n",
      "애니메이션 코미디 -1.100808\n",
      "애니메이션 판타지 -1.0527402\n"
     ]
    }
   ],
   "source": [
    "#WEAR score 1기준으로 나눠서 확인\n",
    "over1 = [] #1이상\n",
    "under_1 = [] #-1이하\n",
    "\n",
    "for i in range(len(genre_name)-1):\n",
    "    for j in range(i+1, len(genre_name)):\n",
    "        if matrix3[i][j] >= 1.0 : \n",
    "            over1.append([i, j, matrix3[i][j]])\n",
    "        if matrix3[i][j] <= -1.0 : \n",
    "            under_1.append([i, j, matrix3[i][j]])\n",
    "\n",
    "print(\"[  Over 1.0 : \", len(over1), \"  ]\")\n",
    "for i, j, score in over1:\n",
    "    print(genre_name[i], genre_name[j], score)\n",
    "print()\n",
    "print(\"[  Under -1.0 : \", len(under_1), \"  ]\")\n",
    "for i, j, score in under_1:\n",
    "    print(genre_name[i], genre_name[j], score)"
   ]
  },
  {
   "cell_type": "code",
   "execution_count": 28,
   "id": "92addd4d",
   "metadata": {},
   "outputs": [
    {
     "data": {
      "text/plain": [
       "<AxesSubplot:>"
      ]
     },
     "execution_count": 28,
     "metadata": {},
     "output_type": "execute_result"
    },
    {
     "data": {
      "image/png": "[encoded data removed]",
      "text/plain": [
       "<Figure size 1080x720 with 2 Axes>"
      ]
     },
     "metadata": {},
     "output_type": "display_data"
    }
   ],
   "source": [
    "np.random.seed(0)\n",
    "\n",
    "# 한글 지원 폰트\n",
    "sns.set(font='NanumGothic')\n",
    "\n",
    "# 마이너스 부호 \n",
    "\n",
    "plt.rcParams['axes.unicode_minus'] = False\n",
    "plt.rcParams['figure.figsize'] = (15,10)\n",
    "ax = sns.heatmap(matrix3, xticklabels=genre_name, yticklabels=genre_name, annot=False,  cmap='RdYlGn_r')\n",
    "ax"
   ]
  },
  {
   "cell_type": "code",
   "execution_count": 29,
   "id": "9aef7715",
   "metadata": {},
   "outputs": [
    {
     "data": {
      "text/plain": [
       "<AxesSubplot:>"
      ]
     },
     "execution_count": 29,
     "metadata": {},
     "output_type": "execute_result"
    },
    {
     "data": {
      "image/png": "[encoded data removed]",
      "text/plain": [
       "<Figure size 1080x720 with 2 Axes>"
      ]
     },
     "metadata": {},
     "output_type": "display_data"
    }
   ],
   "source": [
    "matrix4 = [[0 for _ in range(len(genre_name))] for _ in range(len(genre_name))]\n",
    "\n",
    "for i,j, score in over1:\n",
    "    matrix4[i][j] = score\n",
    "    \n",
    "for i,j, score in under_1:\n",
    "    matrix4[i][j] = score\n",
    "    \n",
    "np.random.seed(0)\n",
    "\n",
    "# 한글 지원 폰트\n",
    "sns.set(font='NanumGothic')\n",
    "\n",
    "# 마이너스 부호 \n",
    "\n",
    "plt.rcParams['axes.unicode_minus'] = False\n",
    "plt.rcParams['figure.figsize'] = (15,10)\n",
    "ax = sns.heatmap(matrix4, xticklabels=genre_name, yticklabels=genre_name, annot=False,  cmap='RdYlGn_r')\n",
    "ax"
   ]
  },
  {
   "cell_type": "markdown",
   "id": "1c69230a",
   "metadata": {},
   "source": [
    "### 분석 결과\n",
    "||WEAT score >= 1.0|WEAT score <= -1.0|\n",
    "|-----|-----|-----|\n",
    "|정제 전|17|21|\n",
    "|정제 후|4|14|\n",
    "\n",
    "\n",
    "- 불용어와 중복을 제거해주자 WEAT score의 절대값 1.0을 넘는 경우가 줄어들었다.\n",
    "  \n",
    "  => 속성 단어 세트를 정제함으로써 편향성이 감소하고, 결과의 신뢰성과 일관성이 증가했음을 의미한다.\n",
    "  \n",
    "- 단어들이 명사들이지만 불용어로 판단한 이유\n",
    "\n",
    " : 장르에 따른 의미를 가진 명사가 아니라고 판단했기 때문\n",
    " \n",
    " \n",
    "- 불용어의 경우 attribute에서만 제거 & target의 경우 처리가 무의미하다고 판단"
   ]
  },
  {
   "cell_type": "markdown",
   "id": "48e5ccb6",
   "metadata": {},
   "source": [
    "=> 정제 전/후 그래프를 비교해보면 전체적으로 색이 옅어진 것을 확인할 수 있다.\n"
   ]
  },
  {
   "cell_type": "markdown",
   "id": "8255f63d",
   "metadata": {},
   "source": [
    "### 회고\n",
    "- 두 가지 속성이 두 가지 타겟 중 어느 것이 더 연관성(편향)이 있는지를 판단하는 지표로 WEAT score를 사용하는데 속성이 변함으로써 비교군이 변한다고 판단이 되어 편향성의 기준이 모호한 것 같아 해당 지표 이외의 판단 방법을 더 찾아보고 싶다."
   ]
  },
  {
   "cell_type": "code",
   "execution_count": null,
   "id": "e311ae61",
   "metadata": {},
   "outputs": [],
   "source": []
  }
 ],
 "metadata": {
  "kernelspec": {
   "display_name": "Python 3 (ipykernel)",
   "language": "python",
   "name": "python3"
  },
  "language_info": {
   "codemirror_mode": {
    "name": "ipython",
    "version": 3
   },
   "file_extension": ".py",
   "mimetype": "text/x-python",
   "name": "python",
   "nbconvert_exporter": "python",
   "pygments_lexer": "ipython3",
   "version": "3.9.7"
  }
 },
 "nbformat": 4,
 "nbformat_minor": 5
}
