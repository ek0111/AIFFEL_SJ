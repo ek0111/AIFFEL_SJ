{
 "cells": [
  {
   "cell_type": "markdown",
   "id": "fd40b693",
   "metadata": {},
   "source": [
    "GPT-1은 Transformer 모델에서 인코더를 제거한 디코더 기반의 모델로 Transformer 모델 구현에서\n",
    "- Encoder 제거\n",
    "- Decoder에서 encoder-decoder attention 제거\n",
    "\n",
    "통해 모델을 구현하고자 한다."
   ]
  },
  {
   "cell_type": "code",
   "execution_count": 1,
   "id": "7c437a43",
   "metadata": {},
   "outputs": [],
   "source": [
    "import tensorflow as tf\n",
    "import tensorflow_datasets as tfds\n",
    "import os\n",
    "import re\n",
    "import numpy as np\n",
    "import matplotlib.pyplot as plt\n",
    "import pandas as pd"
   ]
  },
  {
   "cell_type": "markdown",
   "id": "36b9208c",
   "metadata": {},
   "source": [
    "### Step 1. 데이터 수집"
   ]
  },
  {
   "cell_type": "code",
   "execution_count": 2,
   "id": "d89c4954",
   "metadata": {},
   "outputs": [
    {
     "data": {
      "text/html": [
       "<div>\n",
       "<style scoped>\n",
       "    .dataframe tbody tr th:only-of-type {\n",
       "        vertical-align: middle;\n",
       "    }\n",
       "\n",
       "    .dataframe tbody tr th {\n",
       "        vertical-align: top;\n",
       "    }\n",
       "\n",
       "    .dataframe thead th {\n",
       "        text-align: right;\n",
       "    }\n",
       "</style>\n",
       "<table border=\"1\" class=\"dataframe\">\n",
       "  <thead>\n",
       "    <tr style=\"text-align: right;\">\n",
       "      <th></th>\n",
       "      <th>Q</th>\n",
       "      <th>A</th>\n",
       "      <th>label</th>\n",
       "    </tr>\n",
       "  </thead>\n",
       "  <tbody>\n",
       "    <tr>\n",
       "      <th>0</th>\n",
       "      <td>12시 땡!</td>\n",
       "      <td>하루가 또 가네요.</td>\n",
       "      <td>0</td>\n",
       "    </tr>\n",
       "    <tr>\n",
       "      <th>1</th>\n",
       "      <td>1지망 학교 떨어졌어</td>\n",
       "      <td>위로해 드립니다.</td>\n",
       "      <td>0</td>\n",
       "    </tr>\n",
       "    <tr>\n",
       "      <th>2</th>\n",
       "      <td>3박4일 놀러가고 싶다</td>\n",
       "      <td>여행은 언제나 좋죠.</td>\n",
       "      <td>0</td>\n",
       "    </tr>\n",
       "    <tr>\n",
       "      <th>3</th>\n",
       "      <td>3박4일 정도 놀러가고 싶다</td>\n",
       "      <td>여행은 언제나 좋죠.</td>\n",
       "      <td>0</td>\n",
       "    </tr>\n",
       "    <tr>\n",
       "      <th>4</th>\n",
       "      <td>PPL 심하네</td>\n",
       "      <td>눈살이 찌푸려지죠.</td>\n",
       "      <td>0</td>\n",
       "    </tr>\n",
       "  </tbody>\n",
       "</table>\n",
       "</div>"
      ],
      "text/plain": [
       "                 Q            A  label\n",
       "0           12시 땡!   하루가 또 가네요.      0\n",
       "1      1지망 학교 떨어졌어    위로해 드립니다.      0\n",
       "2     3박4일 놀러가고 싶다  여행은 언제나 좋죠.      0\n",
       "3  3박4일 정도 놀러가고 싶다  여행은 언제나 좋죠.      0\n",
       "4          PPL 심하네   눈살이 찌푸려지죠.      0"
      ]
     },
     "execution_count": 2,
     "metadata": {},
     "output_type": "execute_result"
    }
   ],
   "source": [
    "data_path = \"~/aiffel/transformer_chatbot/data/ChatbotData .csv\"\n",
    "data = pd.read_csv(data_path, encoding='utf-8')\n",
    "data.head()"
   ]
  },
  {
   "cell_type": "code",
   "execution_count": 3,
   "id": "df735b6e",
   "metadata": {},
   "outputs": [
    {
     "data": {
      "text/plain": [
       "11823"
      ]
     },
     "execution_count": 3,
     "metadata": {},
     "output_type": "execute_result"
    }
   ],
   "source": [
    "#데이터 개수\n",
    "len(data)"
   ]
  },
  {
   "cell_type": "code",
   "execution_count": 4,
   "id": "0f0983b2",
   "metadata": {},
   "outputs": [
    {
     "data": {
      "text/plain": [
       "Q        0\n",
       "A        0\n",
       "label    0\n",
       "dtype: int64"
      ]
     },
     "execution_count": 4,
     "metadata": {},
     "output_type": "execute_result"
    }
   ],
   "source": [
    "#결측치 확인\n",
    "data.isnull().sum()"
   ]
  },
  {
   "cell_type": "markdown",
   "id": "3fd357d6",
   "metadata": {},
   "source": [
    "### Step 2. 데이터 전처리"
   ]
  },
  {
   "cell_type": "markdown",
   "id": "3a4b26c4",
   "metadata": {},
   "source": [
    "label열은 필요없는 데이터이므로 제거한다."
   ]
  },
  {
   "cell_type": "code",
   "execution_count": 5,
   "id": "9ee4f066",
   "metadata": {},
   "outputs": [
    {
     "data": {
      "text/html": [
       "<div>\n",
       "<style scoped>\n",
       "    .dataframe tbody tr th:only-of-type {\n",
       "        vertical-align: middle;\n",
       "    }\n",
       "\n",
       "    .dataframe tbody tr th {\n",
       "        vertical-align: top;\n",
       "    }\n",
       "\n",
       "    .dataframe thead th {\n",
       "        text-align: right;\n",
       "    }\n",
       "</style>\n",
       "<table border=\"1\" class=\"dataframe\">\n",
       "  <thead>\n",
       "    <tr style=\"text-align: right;\">\n",
       "      <th></th>\n",
       "      <th>Q</th>\n",
       "      <th>A</th>\n",
       "    </tr>\n",
       "  </thead>\n",
       "  <tbody>\n",
       "    <tr>\n",
       "      <th>0</th>\n",
       "      <td>12시 땡!</td>\n",
       "      <td>하루가 또 가네요.</td>\n",
       "    </tr>\n",
       "    <tr>\n",
       "      <th>1</th>\n",
       "      <td>1지망 학교 떨어졌어</td>\n",
       "      <td>위로해 드립니다.</td>\n",
       "    </tr>\n",
       "    <tr>\n",
       "      <th>2</th>\n",
       "      <td>3박4일 놀러가고 싶다</td>\n",
       "      <td>여행은 언제나 좋죠.</td>\n",
       "    </tr>\n",
       "    <tr>\n",
       "      <th>3</th>\n",
       "      <td>3박4일 정도 놀러가고 싶다</td>\n",
       "      <td>여행은 언제나 좋죠.</td>\n",
       "    </tr>\n",
       "    <tr>\n",
       "      <th>4</th>\n",
       "      <td>PPL 심하네</td>\n",
       "      <td>눈살이 찌푸려지죠.</td>\n",
       "    </tr>\n",
       "  </tbody>\n",
       "</table>\n",
       "</div>"
      ],
      "text/plain": [
       "                 Q            A\n",
       "0           12시 땡!   하루가 또 가네요.\n",
       "1      1지망 학교 떨어졌어    위로해 드립니다.\n",
       "2     3박4일 놀러가고 싶다  여행은 언제나 좋죠.\n",
       "3  3박4일 정도 놀러가고 싶다  여행은 언제나 좋죠.\n",
       "4          PPL 심하네   눈살이 찌푸려지죠."
      ]
     },
     "execution_count": 5,
     "metadata": {},
     "output_type": "execute_result"
    }
   ],
   "source": [
    "data = data[['Q','A']]\n",
    "data.head()"
   ]
  },
  {
   "cell_type": "code",
   "execution_count": 6,
   "id": "8fd6db21",
   "metadata": {},
   "outputs": [],
   "source": [
    "MAX_SAMPLES = 50000 # 사용할 샘플의 최대 수\n",
    "\n",
    "def preprocess_sentence(sentence):\n",
    "    sentence = re.sub(r\"([?.!,])\",r\" \\1 \", sentence) # 구두점 앞/뒤 공백 추가\n",
    "    sentence = re.sub(r'[\" \"]+', \" \", sentence) # 여러 공백을 하나의 공백으로 변환\n",
    "    \n",
    "    sentence = re.sub(r\"[^a-zA-Zㄱ-ㅣ가-힣0-9?.!,]+\", \" \", sentence)\n",
    "    sentence = sentence.strip() # 문자열의 양쪽 끝에 있는 모든 공백 제거\n",
    "    \n",
    "    return sentence"
   ]
  },
  {
   "cell_type": "code",
   "execution_count": 7,
   "id": "c2234910",
   "metadata": {},
   "outputs": [],
   "source": [
    "def load_conversations(question, answer):\n",
    "    inputs, outputs = [], []\n",
    "    \n",
    "    for Q,A in zip(question, answer):\n",
    "        inputs.append(preprocess_sentence(Q))\n",
    "        outputs.append(preprocess_sentence(A))\n",
    "        \n",
    "        if len(inputs) >= MAX_SAMPLES:\n",
    "            return inputs, outputs\n",
    "        \n",
    "    return inputs, outputs"
   ]
  },
  {
   "cell_type": "code",
   "execution_count": 8,
   "id": "dedca77c",
   "metadata": {},
   "outputs": [
    {
     "name": "stdout",
     "output_type": "stream",
     "text": [
      "전체 샘플 수 : 11823 11823\n"
     ]
    }
   ],
   "source": [
    "questions, answers = load_conversations(data['Q'], data['A'])\n",
    "print(f\"전체 샘플 수 : {len(data['Q'])} {len(data['A'])}\")"
   ]
  },
  {
   "cell_type": "markdown",
   "id": "83680554",
   "metadata": {},
   "source": [
    "질문과 답변은 병렬적인 데이터 셋이므로 두 샘플 수가 정확히 일치하는 것을 확인했다."
   ]
  },
  {
   "cell_type": "markdown",
   "id": "9f688da4",
   "metadata": {},
   "source": [
    "### Step 3. SubwordTextEncoder"
   ]
  },
  {
   "cell_type": "markdown",
   "id": "c73d9978",
   "metadata": {},
   "source": [
    "**1. 토큰화**"
   ]
  },
  {
   "cell_type": "markdown",
   "id": "0809fb1c",
   "metadata": {},
   "source": [
    "TensorFlow Datasets SubwordTextEncoder\n",
    "\n",
    ": 단어보다 더 작은 단위인 Subword를 기준으로 토크나이징\n",
    "\n",
    ": 각 토큰을 고유한 정수로 인코딩 한다.\n",
    "\n",
    "=> SubwordTextEncdoer을 사용해 단어장을 만들고자 한다."
   ]
  },
  {
   "cell_type": "code",
   "execution_count": 9,
   "id": "b910cefb",
   "metadata": {},
   "outputs": [],
   "source": [
    "import tensorflow_datasets as tfds\n",
    "\n",
    "tokenizer = tfds.deprecated.text.SubwordTextEncoder.build_from_corpus(questions + answers, target_vocab_size=2**13)\n",
    "# target_vocab_size(목표 어휘 크기) : 2의 13제곱(8192)게의 토큰"
   ]
  },
  {
   "cell_type": "markdown",
   "id": "317ad61a",
   "metadata": {},
   "source": [
    "디코더의 문장 생성 과정에서 사용할 '시작토큰' '종료토큰'을 단어장에 추가한다."
   ]
  },
  {
   "cell_type": "code",
   "execution_count": 10,
   "id": "9b545624",
   "metadata": {},
   "outputs": [
    {
     "name": "stdout",
     "output_type": "stream",
     "text": [
      "단어장의 단어 개수 :  8170\n"
     ]
    }
   ],
   "source": [
    "print('단어장의 단어 개수 : ',tokenizer.vocab_size)"
   ]
  },
  {
   "cell_type": "code",
   "execution_count": 11,
   "id": "b479015d",
   "metadata": {},
   "outputs": [],
   "source": [
    "START_TOKEN, END_TOKEN = [tokenizer.vocab_size], [tokenizer.vocab_size + 1]"
   ]
  },
  {
   "cell_type": "code",
   "execution_count": 12,
   "id": "625f2d61",
   "metadata": {},
   "outputs": [
    {
     "name": "stdout",
     "output_type": "stream",
     "text": [
      "START_TOKEN의 번호 : [8170]\n",
      "END_TOKEN의 번호 : [8171]\n"
     ]
    }
   ],
   "source": [
    "print('START_TOKEN의 번호 :' ,[tokenizer.vocab_size])\n",
    "print('END_TOKEN의 번호 :' ,[tokenizer.vocab_size + 1])"
   ]
  },
  {
   "cell_type": "markdown",
   "id": "cdc0d3f2",
   "metadata": {},
   "source": [
    "2개의 토큰을 추가하였으므로 단어의 크기도 +2해줘야 한다."
   ]
  },
  {
   "cell_type": "code",
   "execution_count": 13,
   "id": "b2a6e7a6",
   "metadata": {},
   "outputs": [
    {
     "name": "stdout",
     "output_type": "stream",
     "text": [
      "8172\n"
     ]
    }
   ],
   "source": [
    "VOCAB_SIZE = tokenizer.vocab_size + 2\n",
    "print(VOCAB_SIZE)"
   ]
  },
  {
   "cell_type": "markdown",
   "id": "71e0bd1e",
   "metadata": {},
   "source": [
    "**2. 각 단어를 고유한 정수로 인코딩 & 패딩**"
   ]
  },
  {
   "cell_type": "markdown",
   "id": "dbaf1a70",
   "metadata": {},
   "source": [
    "각 샘플의 길이를 통해 최대 샘플의 길이를 설정하고자 한다."
   ]
  },
  {
   "cell_type": "code",
   "execution_count": 14,
   "id": "3a081c82",
   "metadata": {},
   "outputs": [
    {
     "name": "stdout",
     "output_type": "stream",
     "text": [
      "Q의 평균 길이 : 13.23\n",
      "A의 평균 길이 : 16.04\n",
      "Q의 최대 길이 : 57\n",
      "A의 최대 길이 : 78\n",
      "Q의 최소 길이 : 1\n",
      "A의 최소 길이 : 78\n"
     ]
    }
   ],
   "source": [
    "Q_length = [len(question) for question in questions]\n",
    "A_length = [len(answer) for answer in answers]\n",
    "\n",
    "#평균\n",
    "avg_Q = sum(Q_length)/len(Q_length)\n",
    "avg_A = sum(A_length)/len(A_length)\n",
    "\n",
    "print(\"Q의 평균 길이 : %.2f\" %avg_Q)\n",
    "print(\"A의 평균 길이 : %.2f\" %avg_A)\n",
    "\n",
    "print(f'Q의 최대 길이 : {max(Q_length)}')\n",
    "print(f'A의 최대 길이 : {max(A_length)}')\n",
    "\n",
    "print(f'Q의 최소 길이 : {min(Q_length)}')\n",
    "print(f'A의 최소 길이 : {max(A_length)}')"
   ]
  },
  {
   "cell_type": "code",
   "execution_count": 15,
   "id": "57c99506",
   "metadata": {},
   "outputs": [
    {
     "data": {
      "image/png": "[encoded data removed]",
      "text/plain": [
       "<Figure size 864x432 with 2 Axes>"
      ]
     },
     "metadata": {
      "needs_background": "light"
     },
     "output_type": "display_data"
    }
   ],
   "source": [
    "import matplotlib.pyplot as plt\n",
    "\n",
    "plt.figure(figsize=(12,6))\n",
    "\n",
    "plt.subplot(1,2,1)\n",
    "plt.hist(Q_length)\n",
    "plt.xlabel('Length of Questions')\n",
    "plt.ylabel('Frequency')\n",
    "\n",
    "plt.subplot(1,2,2)\n",
    "plt.hist(A_length)\n",
    "plt.xlabel('Length of Answers')\n",
    "plt.ylabel('Frequency')\n",
    "\n",
    "plt.tight_layout()\n",
    "plt.show()"
   ]
  },
  {
   "cell_type": "markdown",
   "id": "e27c2fa7",
   "metadata": {},
   "source": [
    "=> maxlen=40으로 결정"
   ]
  },
  {
   "cell_type": "code",
   "execution_count": 16,
   "id": "290ec075",
   "metadata": {},
   "outputs": [],
   "source": [
    "MAX_LENGTH = 40\n",
    "\n",
    "def tokenize_and_filter(inputs, outputs):\n",
    "    tokenized_inputs, tokenized_outputs = [], []\n",
    "    \n",
    "    for (sentence1, sentence2) in zip(inputs, outputs):\n",
    "        sentence1 = START_TOKEN + tokenizer.encode(sentence1) + END_TOKEN\n",
    "        sentence2 = START_TOKEN + tokenizer.encode(sentence2) + END_TOKEN\n",
    "        \n",
    "        #길이40미만 사용\n",
    "        if len(sentence1) <= MAX_LENGTH and len(sentence2) <= MAX_LENGTH:\n",
    "            tokenized_inputs.append(sentence1)\n",
    "            tokenized_outputs.append(sentence2)\n",
    "    #길이 40으로 패딩\n",
    "    tokenized_inputs = tf.keras.preprocessing.sequence.pad_sequences(\n",
    "                            tokenized_inputs, maxlen = MAX_LENGTH, padding = 'post')\n",
    "    tokenized_outputs = tf.keras.preprocessing.sequence.pad_sequences(\n",
    "                            tokenized_outputs, maxlen = MAX_LENGTH, padding = 'post')\n",
    "    \n",
    "    return tokenized_inputs, tokenized_outputs\n",
    "        "
   ]
  },
  {
   "cell_type": "code",
   "execution_count": 17,
   "id": "55c30782",
   "metadata": {},
   "outputs": [
    {
     "name": "stdout",
     "output_type": "stream",
     "text": [
      "단어장의 크기 : 8172\n",
      "필터링 후의 질문 샘플 개수: 11823\n",
      "필터링 후의 답변 샘플 개수: 11823\n"
     ]
    }
   ],
   "source": [
    "questions, answers = tokenize_and_filter(questions, answers)\n",
    "print('단어장의 크기 :',(VOCAB_SIZE))\n",
    "print('필터링 후의 질문 샘플 개수: {}'.format(len(questions)))\n",
    "print('필터링 후의 답변 샘플 개수: {}'.format(len(answers)))"
   ]
  },
  {
   "cell_type": "markdown",
   "id": "51b3547d",
   "metadata": {},
   "source": [
    "### Step 4. 모델 구성"
   ]
  },
  {
   "cell_type": "markdown",
   "id": "aefc205a",
   "metadata": {},
   "source": [
    "**Transformer 구현**\n",
    "\n",
    "Transformer은 문장 속 단어와 같은 순차 데이터 내의 관계를 추적해 의미와 맥락을 학습하는 신경망 모델로 해당 데이터에 적합한 모델"
   ]
  },
  {
   "cell_type": "markdown",
   "id": "5b9cd56e",
   "metadata": {},
   "source": [
    "- 1. positional encoding layer : 위치정보"
   ]
  },
  {
   "cell_type": "code",
   "execution_count": 18,
   "id": "d4cf7b56",
   "metadata": {},
   "outputs": [],
   "source": [
    "# 포지셔널 인코딩 레이어\n",
    "class PositionalEncoding(tf.keras.layers.Layer):\n",
    "    def __init__(self, position, d_model):\n",
    "        super(PositionalEncoding, self).__init__()\n",
    "        self.pos_encoding = self.positional_encoding(position, d_model)\n",
    "    \n",
    "    def get_angles(self, position, i, d_model):\n",
    "        angles = 1 / tf.pow(10000, (2 * (i // 2)) / tf.cast(d_model, tf.float32))\n",
    "        return position * angles\n",
    "    \n",
    "    def positional_encoding(self, position, d_model):\n",
    "        # 각도 배열 생성\n",
    "        angle_rads = self.get_angles(\n",
    "        position=tf.range(position, dtype=tf.float32)[:, tf.newaxis],\n",
    "        i=tf.range(d_model, dtype=tf.float32)[tf.newaxis, :],\n",
    "        d_model=d_model)\n",
    "\n",
    "        # 배열의 짝수 인덱스에는 sin 함수 적용\n",
    "        sines = tf.math.sin(angle_rads[:, 0::2])\n",
    "        # 배열의 홀수 인덱스에는 cosine 함수 적용\n",
    "        cosines = tf.math.cos(angle_rads[:, 1::2])\n",
    "\n",
    "        # sin과 cosine이 교차되도록 재배열\n",
    "        pos_encoding = tf.stack([sines, cosines], axis=0)\n",
    "        pos_encoding = tf.transpose(pos_encoding,[1, 2, 0]) \n",
    "        pos_encoding = tf.reshape(pos_encoding, [position, d_model])\n",
    "\n",
    "        pos_encoding = pos_encoding[tf.newaxis, ...]\n",
    "        return tf.cast(pos_encoding, tf.float32)\n",
    "    \n",
    "    def call(self, inputs):\n",
    "        return inputs + self.pos_encoding[:, :tf.shape(inputs)[1], :]"
   ]
  },
  {
   "cell_type": "markdown",
   "id": "aa74bd4e",
   "metadata": {},
   "source": [
    "- 2. scaled dot product attention : 유사도 계산"
   ]
  },
  {
   "cell_type": "code",
   "execution_count": 19,
   "id": "fb09bc78",
   "metadata": {},
   "outputs": [],
   "source": [
    "# 스케일드 닷 프로덕트 어텐션 함수\n",
    "def scaled_dot_product_attention(query, key, value, mask):\n",
    "\n",
    "    # 어텐션 가중치는 Q와 K의 닷 프로덕트\n",
    "    matmul_qk = tf.matmul(query, key, transpose_b=True)\n",
    "\n",
    "    # 가중치를 정규화\n",
    "    depth = tf.cast(tf.shape(key)[-1], tf.float32)\n",
    "    logits = matmul_qk / tf.math.sqrt(depth)\n",
    "\n",
    "    # 패딩에 마스크 추가\n",
    "    if mask is not None:\n",
    "        logits += (mask * -1e9)\n",
    "\n",
    "    # softmax적용\n",
    "    attention_weights = tf.nn.softmax(logits, axis=-1)\n",
    "\n",
    "    # 최종 어텐션은 가중치와 V의 닷 프로덕트\n",
    "    output = tf.matmul(attention_weights, value)\n",
    "    return output"
   ]
  },
  {
   "cell_type": "markdown",
   "id": "8fce516b",
   "metadata": {},
   "source": [
    "- 3. 멀티헤드어텐션"
   ]
  },
  {
   "cell_type": "code",
   "execution_count": 20,
   "id": "44924e9a",
   "metadata": {},
   "outputs": [],
   "source": [
    "class MultiHeadAttention(tf.keras.layers.Layer):\n",
    "    \n",
    "    def __init__(self, d_model, num_heads, name=\"multi_head_attention\"):\n",
    "        super(MultiHeadAttention, self).__init__(name=name)\n",
    "        self.num_heads = num_heads\n",
    "        self.d_model = d_model\n",
    "\n",
    "        assert d_model % self.num_heads == 0\n",
    "\n",
    "        self.depth = d_model // self.num_heads\n",
    "\n",
    "        self.query_dense = tf.keras.layers.Dense(units=d_model)\n",
    "        self.key_dense = tf.keras.layers.Dense(units=d_model)\n",
    "        self.value_dense = tf.keras.layers.Dense(units=d_model)\n",
    "\n",
    "        self.dense = tf.keras.layers.Dense(units=d_model)\n",
    "\n",
    "    def split_heads(self, inputs, batch_size):\n",
    "        inputs = tf.reshape(\n",
    "            inputs, shape=(batch_size, -1, self.num_heads, self.depth))\n",
    "        return tf.transpose(inputs, perm=[0, 2, 1, 3])\n",
    "\n",
    "    def call(self, inputs):\n",
    "        query, key, value, mask = inputs['query'], inputs['key'], inputs[\n",
    "            'value'], inputs['mask']\n",
    "        batch_size = tf.shape(query)[0]\n",
    "\n",
    "        # Q, K, V에 각각 Dense를 적용합니다\n",
    "        query = self.query_dense(query)\n",
    "        key = self.key_dense(key)\n",
    "        value = self.value_dense(value)\n",
    "\n",
    "        # 병렬 연산을 위한 머리를 여러 개 만듭니다\n",
    "        query = self.split_heads(query, batch_size)\n",
    "        key = self.split_heads(key, batch_size)\n",
    "        value = self.split_heads(value, batch_size)\n",
    "\n",
    "        # 스케일드 닷 프로덕트 어텐션 함수\n",
    "        scaled_attention = scaled_dot_product_attention(query, key, value, mask)\n",
    "\n",
    "        scaled_attention = tf.transpose(scaled_attention, perm=[0, 2, 1, 3])\n",
    "\n",
    "        # 어텐션 연산 후에 각 결과를 다시 연결(concatenate)합니다\n",
    "        concat_attention = tf.reshape(scaled_attention,\n",
    "                                      (batch_size, -1, self.d_model))\n",
    "\n",
    "        # 최종 결과에도 Dense를 한 번 더 적용합니다\n",
    "        outputs = self.dense(concat_attention)\n",
    "\n",
    "        return outputs"
   ]
  },
  {
   "cell_type": "markdown",
   "id": "ab7c0bb7",
   "metadata": {},
   "source": [
    "- 4. 마스킹 함수 : 불필요한 단어 가리기"
   ]
  },
  {
   "cell_type": "code",
   "execution_count": 21,
   "id": "90633770",
   "metadata": {},
   "outputs": [],
   "source": [
    "# 패딩 마스킹 \n",
    "\n",
    "def create_padding_mask(x):\n",
    "    mask = tf.cast(tf.math.equal(x, 0), tf.float32)\n",
    "    return mask[:, tf.newaxis, tf.newaxis, :]"
   ]
  },
  {
   "cell_type": "code",
   "execution_count": 22,
   "id": "fd0c3d1d",
   "metadata": {},
   "outputs": [],
   "source": [
    "# 룩 어헤드 마스킹\n",
    "\n",
    "def create_look_ahead_mask(x):\n",
    "    seq_len = tf.shape(x)[1]\n",
    "    look_ahead_mask = 1 - tf.linalg.band_part(tf.ones((seq_len, seq_len)), -1, 0)\n",
    "    padding_mask = create_padding_mask(x)\n",
    "    return tf.maximum(look_ahead_mask, padding_mask)"
   ]
  },
  {
   "cell_type": "markdown",
   "id": "7ef348fb",
   "metadata": {},
   "source": [
    "- **6.Decoder layer 구현 : 멀티 헤드 셀프 어텐션 + 인코더-디코더 어텐션 + FF**"
   ]
  },
  {
   "cell_type": "code",
   "execution_count": 23,
   "id": "8e6345e4",
   "metadata": {},
   "outputs": [],
   "source": [
    "def decoder_layer(units, d_model, num_heads, dropout, name=\"decoder_layer\"):\n",
    "    inputs = tf.keras.Input(shape=(None, d_model), name=\"inputs\")\n",
    "    look_ahead_mask = tf.keras.Input(shape=(1, None, None), name=\"look_ahead_mask\")\n",
    "    \n",
    "    # 첫 번째 서브 레이어 : 마스크드 멀티 헤드 셀프 어텐션\n",
    "    attention = MultiHeadAttention(\n",
    "        d_model, num_heads, name=\"attention_1\")(inputs={\n",
    "        'query': inputs,\n",
    "        'key': inputs,\n",
    "        'value': inputs,\n",
    "        'mask': look_ahead_mask})#룩어헤드마스킹\n",
    "    \n",
    "    # 멀티 헤드 어텐션의 결과는 LayerNormalization이라는 훈련을 돕는 테크닉을 수행\n",
    "    attention = tf.keras.layers.LayerNormalization(epsilon=1e-6)(attention + inputs)\n",
    "    \n",
    "    # 두 번째 서브 레이어 : 2개의 완전연결층\n",
    "    outputs = tf.keras.layers.Dense(units=units, activation='relu')(attention)\n",
    "    outputs = tf.keras.layers.Dense(units=d_model)(outputs)\n",
    "    \n",
    "    # 완전연결층의 결과는 Dropout과 LayerNormalization 수행\n",
    "    outputs = tf.keras.layers.Dropout(rate=dropout)(outputs)\n",
    "    outputs = tf.keras.layers.LayerNormalization(epsilon=1e-6)(outputs + attention)\n",
    "    \n",
    "    return tf.keras.Model(\n",
    "        inputs=[inputs, look_ahead_mask],\n",
    "        outputs=outputs,\n",
    "        name=name)"
   ]
  },
  {
   "cell_type": "markdown",
   "id": "824b1fb8",
   "metadata": {},
   "source": [
    "- 6+.여러 개의 decoderlayer을 쌓아서 Decoder 구현"
   ]
  },
  {
   "cell_type": "code",
   "execution_count": 59,
   "id": "e557e06b",
   "metadata": {},
   "outputs": [],
   "source": [
    "def decoder(vocab_size,num_layers,units,d_model,num_heads,dropout,name='decoder'):\n",
    "    dec_inputs = tf.keras.Input(shape=(None,), name='dec_inputs')\n",
    "    look_ahead_mask = tf.keras.layers.Lambda(create_look_ahead_mask,output_shape=(1, None, None),name='look_ahead_mask')(dec_inputs)\n",
    "  \n",
    "    # 임베딩 레이어\n",
    "    embeddings = tf.keras.layers.Embedding(vocab_size, d_model)(dec_inputs)\n",
    "    embeddings *= tf.math.sqrt(tf.cast(d_model, tf.float32))\n",
    "\n",
    "    # 포지셔널 인코딩\n",
    "    embeddings = PositionalEncoding(vocab_size, d_model)(embeddings)\n",
    "\n",
    "    # Dropout이라는 훈련을 돕는 테크닉을 수행\n",
    "    outputs = tf.keras.layers.Dropout(rate=dropout)(embeddings)\n",
    "\n",
    "    for i in range(num_layers):\n",
    "        outputs = decoder_layer(\n",
    "            units=units,\n",
    "            d_model=d_model,\n",
    "            num_heads=num_heads,\n",
    "            dropout=dropout,\n",
    "            name='decoder_layer_{}'.format(i)\n",
    "        )(inputs=[outputs, look_ahead_mask])\n",
    "    \n",
    "    outputs = tf.keras.layers.Dense(units=vocab_size, name=\"outputs\")(outputs)\n",
    "\n",
    "    return tf.keras.Model(\n",
    "        inputs=[dec_inputs],\n",
    "        outputs=outputs,\n",
    "        name=name)"
   ]
  },
  {
   "cell_type": "code",
   "execution_count": 60,
   "id": "c1690b3d",
   "metadata": {},
   "outputs": [],
   "source": [
    "BATCH_SIZE = 64 # 각 배치에서 처리할 데이터 샘플 수\n",
    "BUFFER_SIZE = 20000 # 데이터를 섞을 때 사용되는 버퍼 크기\n",
    "\n",
    "# 디코더는 이전의 target을 다음의 input으로 사용합니다.\n",
    "# 이에 따라 outputs에서는 START_TOKEN을 제거하겠습니다.\n",
    "dataset = tf.data.Dataset.from_tensor_slices((\n",
    "    {\n",
    "        'dec_inputs': answers[:, :-1]\n",
    "    },\n",
    "    {\n",
    "        'outputs': answers[:, 1:] #start_token제거\n",
    "    },\n",
    "))\n",
    "\n",
    "dataset = dataset.cache()#데이터를 메모리or디스크에 cache해 반복적인 데이터 로딩방지\n",
    "dataset = dataset.shuffle(BUFFER_SIZE)#데이터섞\n",
    "dataset = dataset.batch(BATCH_SIZE)#배치크기로나누기\n",
    "dataset = dataset.prefetch(tf.data.experimental.AUTOTUNE)#학습 중 데이터 전처리와 모델 실행을 병렬적으로 수행\n",
    "# tensorflow가 적절한 프리페치 크기를 자동(AUTOTUNE)으로 설정"
   ]
  },
  {
   "cell_type": "code",
   "execution_count": 61,
   "id": "14258eda",
   "metadata": {},
   "outputs": [
    {
     "name": "stdout",
     "output_type": "stream",
     "text": [
      "Model: \"decoder\"\n",
      "__________________________________________________________________________________________________\n",
      "Layer (type)                    Output Shape         Param #     Connected to                     \n",
      "==================================================================================================\n",
      "dec_inputs (InputLayer)         [(None, None)]       0                                            \n",
      "__________________________________________________________________________________________________\n",
      "embedding (Embedding)           (None, None, 256)    2092032     dec_inputs[0][0]                 \n",
      "__________________________________________________________________________________________________\n",
      "tf.math.multiply (TFOpLambda)   (None, None, 256)    0           embedding[0][0]                  \n",
      "__________________________________________________________________________________________________\n",
      "positional_encoding (Positional (None, None, 256)    0           tf.math.multiply[0][0]           \n",
      "__________________________________________________________________________________________________\n",
      "dropout (Dropout)               (None, None, 256)    0           positional_encoding[0][0]        \n",
      "__________________________________________________________________________________________________\n",
      "look_ahead_mask (Lambda)        (None, 1, None, None 0           dec_inputs[0][0]                 \n",
      "__________________________________________________________________________________________________\n",
      "decoder_layer_0 (Functional)    (None, None, 256)    527104      dropout[0][0]                    \n",
      "                                                                 look_ahead_mask[0][0]            \n",
      "__________________________________________________________________________________________________\n",
      "decoder_layer_1 (Functional)    (None, None, 256)    527104      decoder_layer_0[0][0]            \n",
      "                                                                 look_ahead_mask[0][0]            \n",
      "__________________________________________________________________________________________________\n",
      "outputs (Dense)                 (None, None, 8172)   2100204     decoder_layer_1[0][0]            \n",
      "==================================================================================================\n",
      "Total params: 5,246,444\n",
      "Trainable params: 5,246,444\n",
      "Non-trainable params: 0\n",
      "__________________________________________________________________________________________________\n"
     ]
    }
   ],
   "source": [
    "#모델 생성\n",
    "\n",
    "tf.keras.backend.clear_session()\n",
    "# 하이퍼파라미터\n",
    "NUM_LAYERS = 2 # 인코더와 디코더의 층의 개수\n",
    "D_MODEL = 256 # 인코더와 디코더 내부의 입, 출력의 고정 차원\n",
    "NUM_HEADS = 8 # 멀티 헤드 어텐션에서의 헤드 수 \n",
    "UNITS = 512 # 피드 포워드 신경망의 은닉층의 크기\n",
    "DROPOUT = 0.1 # 드롭아웃의 비율\n",
    "\n",
    "model = decoder(\n",
    "    vocab_size=VOCAB_SIZE,\n",
    "    num_layers=NUM_LAYERS,\n",
    "    units=UNITS,\n",
    "    d_model=D_MODEL,\n",
    "    num_heads=NUM_HEADS,\n",
    "    dropout=DROPOUT)\n",
    "\n",
    "model.summary()"
   ]
  },
  {
   "cell_type": "code",
   "execution_count": 62,
   "id": "fb0348e7",
   "metadata": {},
   "outputs": [],
   "source": [
    "#시퀀스에 패딩되어 있기 때문에 loss를 계산할 때 패딩 마스크를 적용한다.\n",
    "\n",
    "def loss_function(y_true, y_pred):\n",
    "    y_true = tf.reshape(y_true, shape=(-1, MAX_LENGTH - 1))\n",
    "  \n",
    "    loss = tf.keras.losses.SparseCategoricalCrossentropy(\n",
    "        from_logits=True, reduction='none')(y_true, y_pred)\n",
    "\n",
    "    mask = tf.cast(tf.not_equal(y_true, 0), tf.float32)\n",
    "    loss = tf.multiply(loss, mask) #패딩부분을 제외하고 실제 값이 있는 부분에 대해서만 손실 계산\n",
    "    #multiply함수 : element-wise곱셈 수행\n",
    "    \n",
    "    return tf.reduce_mean(loss)#평균손실 반환"
   ]
  },
  {
   "cell_type": "code",
   "execution_count": 63,
   "id": "487787b6",
   "metadata": {},
   "outputs": [],
   "source": [
    "#커스텀 학습률 스케즐러를 통한 Adam 옵티마이저\n",
    "\n",
    "class CustomSchedule(tf.keras.optimizers.schedules.LearningRateSchedule):\n",
    "    def __init__(self, d_model, warmup_steps=4000):\n",
    "        super(CustomSchedule, self).__init__()\n",
    "\n",
    "        self.d_model = d_model\n",
    "        self.d_model = tf.cast(self.d_model, tf.float32)\n",
    "\n",
    "        self.warmup_steps = warmup_steps\n",
    "\n",
    "    def __call__(self, step):\n",
    "        arg1 = tf.math.rsqrt(step)\n",
    "        arg2 = step * (self.warmup_steps**-1.5)\n",
    "\n",
    "        return tf.math.rsqrt(self.d_model) * tf.math.minimum(arg1, arg2)"
   ]
  },
  {
   "cell_type": "markdown",
   "id": "d33e28c3",
   "metadata": {},
   "source": [
    "### 모델 학습"
   ]
  },
  {
   "cell_type": "code",
   "execution_count": 64,
   "id": "fba8b60a",
   "metadata": {},
   "outputs": [],
   "source": [
    "learning_rate = CustomSchedule(D_MODEL)\n",
    "\n",
    "optimizer = tf.keras.optimizers.Adam(\n",
    "    learning_rate, beta_1=0.9, beta_2=0.98, epsilon=1e-9)\n",
    "\n",
    "def accuracy(y_true, y_pred):\n",
    "    y_true = tf.reshape(y_true, shape=(-1, MAX_LENGTH - 1))\n",
    "    return tf.keras.metrics.sparse_categorical_accuracy(y_true, y_pred)\n",
    "\n",
    "model.compile(optimizer=optimizer, loss=loss_function, metrics=[accuracy])"
   ]
  },
  {
   "cell_type": "code",
   "execution_count": 65,
   "id": "dda6e206",
   "metadata": {},
   "outputs": [
    {
     "name": "stdout",
     "output_type": "stream",
     "text": [
      "Epoch 1/20\n",
      "185/185 [==============================] - 10s 33ms/step - loss: 1.4584 - accuracy: 0.0341\n",
      "Epoch 2/20\n",
      "185/185 [==============================] - 6s 32ms/step - loss: 1.1750 - accuracy: 0.0495\n",
      "Epoch 3/20\n",
      "185/185 [==============================] - 6s 32ms/step - loss: 1.0003 - accuracy: 0.0507\n",
      "Epoch 4/20\n",
      "185/185 [==============================] - 6s 32ms/step - loss: 0.9235 - accuracy: 0.0542\n",
      "Epoch 5/20\n",
      "185/185 [==============================] - 6s 33ms/step - loss: 0.8634 - accuracy: 0.0578\n",
      "Epoch 6/20\n",
      "185/185 [==============================] - 6s 33ms/step - loss: 0.8042 - accuracy: 0.0623\n",
      "Epoch 7/20\n",
      "185/185 [==============================] - 6s 33ms/step - loss: 0.7414 - accuracy: 0.0680\n",
      "Epoch 8/20\n",
      "185/185 [==============================] - 6s 33ms/step - loss: 0.6760 - accuracy: 0.0750\n",
      "Epoch 9/20\n",
      "185/185 [==============================] - 6s 33ms/step - loss: 0.6089 - accuracy: 0.0821\n",
      "Epoch 10/20\n",
      "185/185 [==============================] - 6s 33ms/step - loss: 0.5450 - accuracy: 0.0894\n",
      "Epoch 11/20\n",
      "185/185 [==============================] - 6s 33ms/step - loss: 0.4856 - accuracy: 0.0965\n",
      "Epoch 12/20\n",
      "185/185 [==============================] - 6s 33ms/step - loss: 0.4339 - accuracy: 0.1035\n",
      "Epoch 13/20\n",
      "185/185 [==============================] - 6s 33ms/step - loss: 0.3897 - accuracy: 0.1098\n",
      "Epoch 14/20\n",
      "185/185 [==============================] - 6s 33ms/step - loss: 0.3546 - accuracy: 0.1147\n",
      "Epoch 15/20\n",
      "185/185 [==============================] - 6s 33ms/step - loss: 0.3284 - accuracy: 0.1192\n",
      "Epoch 16/20\n",
      "185/185 [==============================] - 6s 33ms/step - loss: 0.3097 - accuracy: 0.1229\n",
      "Epoch 17/20\n",
      "185/185 [==============================] - 6s 33ms/step - loss: 0.2978 - accuracy: 0.1254\n",
      "Epoch 18/20\n",
      "185/185 [==============================] - 6s 33ms/step - loss: 0.2919 - accuracy: 0.1267\n",
      "Epoch 19/20\n",
      "185/185 [==============================] - 6s 33ms/step - loss: 0.2881 - accuracy: 0.1278\n",
      "Epoch 20/20\n",
      "185/185 [==============================] - 6s 33ms/step - loss: 0.2871 - accuracy: 0.1280\n"
     ]
    },
    {
     "data": {
      "text/plain": [
       "<keras.callbacks.History at 0x7bba4026d6d0>"
      ]
     },
     "execution_count": 65,
     "metadata": {},
     "output_type": "execute_result"
    }
   ],
   "source": [
    "from keras.callbacks import EarlyStopping\n",
    "early_stopping = EarlyStopping(monitor='loss', patience=5)\n",
    "\n",
    "EPOCHS = 20\n",
    "model.fit(dataset, epochs=EPOCHS, verbose=1, callbacks = [early_stopping])"
   ]
  },
  {
   "cell_type": "markdown",
   "id": "f52001c0",
   "metadata": {},
   "source": [
    "### Step 5. 모델 평가"
   ]
  },
  {
   "cell_type": "markdown",
   "id": "2bbaec3f",
   "metadata": {},
   "source": [
    "예측 단계\n",
    "- 새로운 입력 문장에 대해서 전처리\n",
    "- 입력 문장을 tokenizer, start&end token 추가\n",
    "- 패딩 마스킹, 룩 어헤드 마스킹 계산\n",
    "- 디코더는 입력 시퀀스로부터 다음 단어 예측\n",
    "- 디코더는 예측된 다음 단어를 기존 입력 시퀀스에 추가하여 새로운 입력으로 사용\n",
    "- end token이 예측되거나 문장의 최대 길이에 도달하면 디코더 동작 stop"
   ]
  },
  {
   "cell_type": "code",
   "execution_count": 69,
   "id": "29e538fc",
   "metadata": {},
   "outputs": [],
   "source": [
    "def decoder_inference(sentence):\n",
    "    sentence = preprocess_sentence(sentence) # 전치리\n",
    "\n",
    "    # 입력된 문장을 정수 인코딩 후, 시작 토큰과 종료 토큰을 앞뒤로 추가.\n",
    "    # ex) Where have you been? → [[8331   86   30    5 1059    7 8332]]\n",
    "    sentence = tf.expand_dims(\n",
    "        START_TOKEN + tokenizer.encode(sentence) + END_TOKEN, axis=0)\n",
    "\n",
    "    # 디코더의 현재까지의 예측한 출력 시퀀스가 지속적으로 저장되는 변수.\n",
    "    # 처음에는 예측한 내용이 없음으로 시작 토큰만 별도 저장. ex) 8331\n",
    "    output_sequence = tf.expand_dims(START_TOKEN, 0)\n",
    "\n",
    "    # 디코더의 인퍼런스 단계\n",
    "    for i in range(MAX_LENGTH):\n",
    "        # 디코더는 최대 MAX_LENGTH의 길이만큼 다음 단어 예측을 반복합니다.\n",
    "        predictions = model(inputs=[sentence], training=False)\n",
    "        predictions = predictions[:, -1:, :]\n",
    "\n",
    "        # 현재 예측한 단어의 정수\n",
    "        predicted_id = tf.cast(tf.argmax(predictions, axis=-1), tf.int32)\n",
    "\n",
    "        # 만약 현재 예측한 단어가 종료 토큰이라면 for문을 종료\n",
    "        if tf.equal(predicted_id, END_TOKEN[0]):\n",
    "            break\n",
    "\n",
    "        # 예측한 단어들은 지속적으로 output_sequence에 추가됩니다.\n",
    "        # 이 output_sequence는 다시 디코더의 입력이 됩니다.\n",
    "        output_sequence = tf.concat([output_sequence, predicted_id], axis=-1)\n",
    "        \n",
    "    return tf.squeeze(output_sequence, axis=0)"
   ]
  },
  {
   "cell_type": "code",
   "execution_count": 70,
   "id": "790a8b1e",
   "metadata": {},
   "outputs": [],
   "source": [
    "# decoder_inference를 호출하여 챗봇의 대답을 얻는 함수\n",
    "\n",
    "def sentence_generation(sentence):\n",
    "    # 입력 문장에 대해서 디코더를 동작 시켜 예측된 정수 시퀀스를 리턴받습니다.\n",
    "    prediction = decoder_inference(sentence)\n",
    "\n",
    "    # 정수 시퀀스를 다시 텍스트 시퀀스로 변환합니다.\n",
    "    predicted_sentence = tokenizer.decode(\n",
    "        [i for i in prediction if i < tokenizer.vocab_size])\n",
    "\n",
    "    print('입력 : {}'.format(sentence))\n",
    "    print('출력 : {}'.format(predicted_sentence))\n",
    "\n",
    "    return predicted_sentence"
   ]
  },
  {
   "cell_type": "code",
   "execution_count": 71,
   "id": "ecd8ceec",
   "metadata": {},
   "outputs": [
    {
     "name": "stdout",
     "output_type": "stream",
     "text": [
      "입력 : 안녕\n",
      "출력 :                                         \n",
      "\n",
      "\n",
      "입력 : 너의 이름은 뭐야?\n",
      "출력 : \n",
      "\n",
      "\n",
      "입력 : 너는 사람이야?\n",
      "출력 :                                         \n",
      "\n",
      "\n",
      "입력 : 저녁 메뉴 추천해줘.\n",
      "출력 : \n",
      "\n",
      "\n",
      "입력 : 나 친구랑 싸워서 기분이 안좋아.\n",
      "출력 : 고 고 고 고 고 고 고 고 고 고 고 고 고 고 고 고 고 고 고 고 고 고 고 고 고 고 고 고 고 고 고 고 고 고 고 고 고 고 고 고 \n",
      "\n",
      "\n",
      "입력 : 1234 + 1234 계산 결과가 뭐야?\n",
      "출력 : 으면 으면 으면 으면 으면 으면 으면 으면 으면 으면 으면 으면 으면 으면 으면 으면 으면 으면 으면 으면 으면 으면 으면 으면 으면 으면 으면 으면 으면 으면 으면 으면 으면 으면 으면 으면 으면 으면 으면 으면 \n",
      "\n",
      "\n",
      "입력 : sin함수에 대해서 설명해줘.\n",
      "출력 : 할 할 할 할 할 할 할 할 할 할 할 할 할 할 할 할 할 할 할 할 할 할 할 할 할 할 할 할 할 할 할 할 할 할 할 할 할 할 할 할 \n",
      "\n",
      "\n"
     ]
    }
   ],
   "source": [
    "Q_lists = ['안녕', '너의 이름은 뭐야?','너는 사람이야?', '저녁 메뉴 추천해줘.','나 친구랑 싸워서 기분이 안좋아.','1234 + 1234 계산 결과가 뭐야?','sin함수에 대해서 설명해줘.']\n",
    "\n",
    "for i in Q_lists:\n",
    "    sentence_generation(i)\n",
    "    print('\\n')"
   ]
  },
  {
   "cell_type": "markdown",
   "id": "8f82e300",
   "metadata": {},
   "source": [
    "< 어려웠던 점 >\n",
    "- Transformer에서는 encoder input과 decoder input의 차이가 존재하는데 Decoder로만 수행하면 어떻게 처리해야하는지 해결하지 못했다.\n",
    "=> 무턱대고 encoder연결과 encoder관련 층은 모두 제거해서 모델을 구현했다.\n",
    "- GPT에 대한 완전한 이해없이 정답 없는 code를 구현하는 것이 어려웠으며\n",
    "- 지속되는 동일한 오류를 파악하고 수정하지 못해 최종 결과물을 도출하지 못했다."
   ]
  },
  {
   "cell_type": "markdown",
   "id": "e6281e68",
   "metadata": {},
   "source": [
    "- 주말을 이용해 GTP논문을 다시 한번 읽고 훈련 과정을 다시 구현해봐야겠다."
   ]
  },
  {
   "cell_type": "code",
   "execution_count": null,
   "id": "905821f9",
   "metadata": {},
   "outputs": [],
   "source": []
  }
 ],
 "metadata": {
  "kernelspec": {
   "display_name": "Python 3 (ipykernel)",
   "language": "python",
   "name": "python3"
  },
  "language_info": {
   "codemirror_mode": {
    "name": "ipython",
    "version": 3
   },
   "file_extension": ".py",
   "mimetype": "text/x-python",
   "name": "python",
   "nbconvert_exporter": "python",
   "pygments_lexer": "ipython3",
   "version": "3.9.7"
  }
 },
 "nbformat": 4,
 "nbformat_minor": 5
}
